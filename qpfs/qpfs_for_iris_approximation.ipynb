{
  "nbformat": 4,
  "nbformat_minor": 0,
  "metadata": {
    "colab": {
      "provenance": [],
      "include_colab_link": true
    },
    "kernelspec": {
      "name": "python3",
      "display_name": "Python 3"
    },
    "language_info": {
      "name": "python"
    }
  },
  "cells": [
    {
      "cell_type": "markdown",
      "metadata": {
        "id": "view-in-github",
        "colab_type": "text"
      },
      "source": [
        "<a href=\"https://colab.research.google.com/github/Blacknahil/Icog-tasks/blob/main/qpfs/qpfs_for_iris_approximation.ipynb\" target=\"_parent\"><img src=\"https://colab.research.google.com/assets/colab-badge.svg\" alt=\"Open In Colab\"/></a>"
      ]
    },
    {
      "cell_type": "markdown",
      "source": [
        "### This is a qpfs applied to iris data set with approximation method."
      ],
      "metadata": {
        "id": "eoj5V6b4LZ0F"
      }
    },
    {
      "cell_type": "markdown",
      "source": [
        "# 1. Load and preproccess the data"
      ],
      "metadata": {
        "id": "mazDYTezRhtq"
      }
    },
    {
      "cell_type": "markdown",
      "source": [
        "### imports"
      ],
      "metadata": {
        "id": "mHFqxvEkUx01"
      }
    },
    {
      "cell_type": "code",
      "source": [
        "from sklearn.datasets import load_iris\n",
        "import numpy as np\n",
        "import pandas as pd\n",
        "from sklearn.feature_selection import mutual_info_classif"
      ],
      "metadata": {
        "id": "ERTubd8DU8tz"
      },
      "execution_count": 2,
      "outputs": []
    },
    {
      "cell_type": "markdown",
      "source": [
        "Loading iris"
      ],
      "metadata": {
        "id": "9eI1EF_rU2Pe"
      }
    },
    {
      "cell_type": "code",
      "source": [
        "iris= load_iris()"
      ],
      "metadata": {
        "id": "58ez6YqdU7LW"
      },
      "execution_count": 3,
      "outputs": []
    },
    {
      "cell_type": "code",
      "source": [
        "X = pd.DataFrame(iris.data, columns=iris.feature_names)  # Feature matrix\n",
        "y = iris.target  # Target labels (flower species)"
      ],
      "metadata": {
        "id": "-e22OoWtVTVc"
      },
      "execution_count": 4,
      "outputs": []
    },
    {
      "cell_type": "markdown",
      "source": [
        "# *Steps for QPFS*"
      ],
      "metadata": {
        "id": "NEJPCmxHxAQU"
      }
    },
    {
      "cell_type": "markdown",
      "source": [
        "## 1. Compute feature relevance (F) using Mutual information and Feature dependecy Q using pearson coefficient"
      ],
      "metadata": {
        "id": "Hc5bxvP2RodJ"
      }
    },
    {
      "cell_type": "markdown",
      "source": [
        "Lets calculate the mutual information(MI) between each feature and the class labels."
      ],
      "metadata": {
        "id": "OUPKaXo9VyGl"
      }
    },
    {
      "cell_type": "code",
      "source": [
        "F=mutual_info_classif(X,y)\n",
        "F= F/np.max(F) # Normalize the mutual information to be in the range [0,1]\n",
        "print(F)"
      ],
      "metadata": {
        "id": "vjrw5N5xVmmh",
        "outputId": "9872b458-746c-40ed-8251-55e33c2da01d",
        "colab": {
          "base_uri": "https://localhost:8080/"
        }
      },
      "execution_count": 5,
      "outputs": [
        {
          "output_type": "stream",
          "name": "stdout",
          "text": [
            "[0.53124962 0.29313172 0.9960259  1.        ]\n"
          ]
        }
      ]
    },
    {
      "cell_type": "markdown",
      "source": [
        "print the feature relevance scores, that is  how well each feature predicts the target class. Higher F values mean more relevant features."
      ],
      "metadata": {
        "id": "OM2yzficXbh5"
      }
    },
    {
      "cell_type": "code",
      "source": [
        "## print the feature relevance scores\n",
        "for i in range(len(iris.feature_names)):\n",
        "    print(f\"{iris.feature_names[i]}: {F[i]}\")"
      ],
      "metadata": {
        "colab": {
          "base_uri": "https://localhost:8080/"
        },
        "id": "LNnc5Vb3W23Y",
        "outputId": "ff2b0197-371b-455b-9a15-ed83c9d825f7"
      },
      "execution_count": null,
      "outputs": [
        {
          "output_type": "stream",
          "name": "stdout",
          "text": [
            "sepal length (cm): 0.5016730501171255\n",
            "sepal width (cm): 0.2465809262463776\n",
            "petal length (cm): 1.0\n",
            "petal width (cm): 0.9967748620636285\n"
          ]
        }
      ]
    },
    {
      "cell_type": "markdown",
      "source": [
        " Computer the feature similarity/ redundancy Using Pearson Correlation"
      ],
      "metadata": {
        "id": "D4ArAm3lR2zo"
      }
    },
    {
      "cell_type": "markdown",
      "source": [
        "Lets create a 4*4 similarity matrix Q using Pearson Correlation"
      ],
      "metadata": {
        "id": "cZ5u8ElsXsqY"
      }
    },
    {
      "cell_type": "code",
      "source": [
        "from scipy.stats import pearsonr"
      ],
      "metadata": {
        "id": "DWcW4c9zY4Uo"
      },
      "execution_count": 6,
      "outputs": []
    },
    {
      "cell_type": "code",
      "source": [
        "num_featues= X.shape[1]\n",
        "# print(num_featues)\n",
        "Q= np.zeros((num_featues,num_featues))\n",
        "# print(Q)\n",
        "\n",
        "for i in range(num_featues):\n",
        "  for j in range(i,num_featues):\n",
        "    Q[i, j], other_x = pearsonr(X.iloc[:, i], X.iloc[:, j])\n",
        "    Q[j,i]=Q[i,j]\n",
        "    # print(iris.feature_names[i],iris.feature_names[j],Q[i,j])\n",
        "    # print(\"\\n\")\n",
        "\n",
        "# Take the absolute value to measure similarity\n",
        "Q= np.abs(Q)"
      ],
      "metadata": {
        "id": "6tNbzvSeX6gU"
      },
      "execution_count": 7,
      "outputs": []
    },
    {
      "cell_type": "code",
      "source": [
        "print(\"Feature Similarity Matrix(Q):\")\n",
        "print(Q)"
      ],
      "metadata": {
        "colab": {
          "base_uri": "https://localhost:8080/"
        },
        "id": "qaKsJ1HCakB-",
        "outputId": "5e35fa36-4a7d-44e8-e07f-7d8aee92457a"
      },
      "execution_count": 8,
      "outputs": [
        {
          "output_type": "stream",
          "name": "stdout",
          "text": [
            "Feature Similarity Matrix(Q):\n",
            "[[1.         0.11756978 0.87175378 0.81794113]\n",
            " [0.11756978 1.         0.4284401  0.36612593]\n",
            " [0.87175378 0.4284401  1.         0.96286543]\n",
            " [0.81794113 0.36612593 0.96286543 1.        ]]\n"
          ]
        }
      ]
    },
    {
      "cell_type": "markdown",
      "source": [
        "Measure how redundant features/columns are to each other. Higher Qij values mean more redundancy"
      ],
      "metadata": {
        "id": "vxsFaHGma_gC"
      }
    },
    {
      "cell_type": "markdown",
      "source": [
        "## 2. Choosing r rows using uniform sampling with-out replacement to find A and B which charcterize the enire Q using Nystrom approximation."
      ],
      "metadata": {
        "id": "h_5C8HdXCih6"
      }
    },
    {
      "cell_type": "markdown",
      "source": [
        "$$\n",
        "Q = \\begin{bmatrix} A & B \\\\ B^T & E \\end{bmatrix}\n",
        "$$\n",
        "\n",
        "$$\n",
        "where:\n",
        " A \\in \\mathbb{R}^{k \\times k},\n",
        "B \\in \\mathbb{R}^{k \\times (M-k)},\n",
        "E \\in \\mathbb{R}^{(M-k) \\times (M-k)}\n",
        "$$\n"
      ],
      "metadata": {
        "id": "XgqgOJtmDYH2"
      }
    },
    {
      "cell_type": "markdown",
      "source": [
        "**Uniform random sampling is used to find A and B**"
      ],
      "metadata": {
        "id": "cY2ptwx9Ed6D"
      }
    },
    {
      "cell_type": "code",
      "source": [
        "def get_AB(Q,r):\n",
        "  M = Q.shape[0]  # Total number of features\n",
        "\n",
        "  # Randomly select r unique row indices\n",
        "  selected_rows = np.random.choice(M, r, replace=False)\n",
        "  selected_rows.sort()\n",
        "\n",
        "  # Extract A (r x r submatrix)\n",
        "  A = Q[np.ix_(selected_rows, selected_rows)]\n",
        "  remaining_cols = np.setdiff1d(np.arange(M), selected_rows)  # Non-selected columns\n",
        "  B = Q[np.ix_(selected_rows, remaining_cols)]\n",
        "\n",
        "  return A,B\n"
      ],
      "metadata": {
        "id": "jKevSsTTEjdV"
      },
      "execution_count": 9,
      "outputs": []
    },
    {
      "cell_type": "code",
      "source": [
        "A,B= get_AB(Q,2)"
      ],
      "metadata": {
        "id": "0FE5KdDMKFed"
      },
      "execution_count": 10,
      "outputs": []
    },
    {
      "cell_type": "markdown",
      "source": [
        "## 3. Set the value of the α parameter"
      ],
      "metadata": {
        "id": "ALgZoJ6Bhhaf"
      }
    },
    {
      "cell_type": "markdown",
      "source": [
        "## 4. Apply the Nystr ̈om method knowing [A B]. Obtain an approximation of the eigenvalues and eigenvectors of Q."
      ],
      "metadata": {
        "id": "yr5FksXkhmlm"
      }
    },
    {
      "cell_type": "markdown",
      "source": [
        "### 4.1 Find S"
      ],
      "metadata": {
        "id": "heZ1HxCOh9Bs"
      }
    },
    {
      "cell_type": "markdown",
      "source": [
        "$$\n",
        "S = A + A^{-1/2} B B^T A^{-1/2}\n",
        "$$"
      ],
      "metadata": {
        "id": "Eo0HVTNalUt_"
      }
    },
    {
      "cell_type": "code",
      "source": [
        "def diagonalize(matrix):\n",
        "    eigenvalues, eigenvectors = np.linalg.eig(matrix)\n",
        "    Å= np.diag(eigenvalues)\n",
        "    return Å, eigenvectors"
      ],
      "metadata": {
        "id": "j0H-j1j7iiBZ"
      },
      "execution_count": 15,
      "outputs": []
    },
    {
      "cell_type": "code",
      "source": [
        "def get_inverse_square_root(matrix):\n",
        "    Å,eigenvectors = diagonalize(matrix)\n",
        "    sqrt_Å= np.sqrt(Å)\n",
        "    inverted_sqrt_Å = np.linalg.inv(sqrt_Å)\n",
        "    inverted_root_matrix= eigenvectors @ inverted_sqrt_Å @ eigenvectors.T\n",
        "    return inverted_root_matrix"
      ],
      "metadata": {
        "id": "Bp8IEU4NjG3Z"
      },
      "execution_count": 14,
      "outputs": []
    },
    {
      "cell_type": "code",
      "source": [
        "inverted_sqrt_A = get_inverse_square_root(A)\n",
        "S = A +inverted_sqrt_A @ B @ B.T @ inverted_sqrt_A\n",
        "print(S)"
      ],
      "metadata": {
        "colab": {
          "base_uri": "https://localhost:8080/"
        },
        "id": "47tmP67KlZeS",
        "outputId": "d1a9ace6-ddd8-4914-fecd-af5e58401d13"
      },
      "execution_count": 17,
      "outputs": [
        {
          "output_type": "stream",
          "name": "stdout",
          "text": [
            "[[1.74977337 1.36127354]\n",
            " [1.36127354 1.22959129]]\n"
          ]
        }
      ]
    },
    {
      "cell_type": "markdown",
      "source": [
        "### 4.2 Represent S as a diagonalization"
      ],
      "metadata": {
        "id": "tf1c7poSiBMW"
      }
    },
    {
      "cell_type": "code",
      "source": [
        "sigma, R = diagonalize(S)\n",
        "print(sigma) ## which is equal to lamda in the digonalization of Q below\n",
        "print(R)"
      ],
      "metadata": {
        "colab": {
          "base_uri": "https://localhost:8080/"
        },
        "id": "tBxSbAhOnZpO",
        "outputId": "59787024-ef1a-425a-aa9e-a41ef0328475"
      },
      "execution_count": 20,
      "outputs": [
        {
          "output_type": "stream",
          "name": "stdout",
          "text": [
            "[[2.87558024 0.        ]\n",
            " [0.         0.10378442]]\n",
            "[[ 0.77060681 -0.63731087]\n",
            " [ 0.63731087  0.77060681]]\n"
          ]
        }
      ]
    },
    {
      "cell_type": "markdown",
      "source": [
        "### 4.3 Obtain an approximation of the eigenvalues and eigenvectors of Q."
      ],
      "metadata": {
        "id": "bUsGzMt_niM5"
      }
    },
    {
      "cell_type": "markdown",
      "source": [
        "$$\n",
        "\\hat{Q} = \\hat{U} \\hat{\\Lambda} \\hat{U} ^T\n",
        "$$\n",
        "$$\n",
        "where,\n",
        "\\hat{U} =\n",
        "\\begin{bmatrix}\n",
        "A \\\\\n",
        "B^T\n",
        "\\end{bmatrix}\n",
        "A^{-1/2} R \\hat{\\Sigma}^{-1/2}\n",
        "$$"
      ],
      "metadata": {
        "id": "Snjg-rAEnpBg"
      }
    },
    {
      "cell_type": "code",
      "source": [
        "stacked_AB= np.vstack((A,B.T))\n",
        "# print(stacked_AB)\n",
        "inverted_sqrt_sigma = get_inverse_square_root(sigma)\n",
        "# print(inverted_sqrt_sigma)\n",
        "\n",
        "U = stacked_AB @ inverted_sqrt_A @ R @ inverted_sqrt_sigma\n",
        "\n",
        "print(\"U\",U)"
      ],
      "metadata": {
        "colab": {
          "base_uri": "https://localhost:8080/"
        },
        "id": "BHtWyHV0ooQx",
        "outputId": "9f4b5c02-0a02-4bb1-bd5e-101d96c3add7"
      },
      "execution_count": 39,
      "outputs": [
        {
          "output_type": "stream",
          "name": "stdout",
          "text": [
            "U [[ 0.58918101 -0.13124041]\n",
            " [ 0.57403342  0.71093076]\n",
            " [ 0.51164074 -0.36069822]\n",
            " [ 0.24814335 -0.58927939]]\n"
          ]
        }
      ]
    },
    {
      "cell_type": "markdown",
      "source": [
        "To approximate Q we have found U.But we also need Λ.\n",
        " the Λ is approximated to the Σ"
      ],
      "metadata": {
        "id": "LIZpXaPevA0t"
      }
    },
    {
      "cell_type": "code",
      "source": [
        "Lambda_hat = sigma\n"
      ],
      "metadata": {
        "colab": {
          "base_uri": "https://localhost:8080/"
        },
        "id": "vIr-h1LIvcmN",
        "outputId": "0c0b254a-cd80-4bb0-f3dc-b6b16458c118"
      },
      "execution_count": 38,
      "outputs": [
        {
          "output_type": "execute_result",
          "data": {
            "text/plain": [
              "(2, 2)"
            ]
          },
          "metadata": {},
          "execution_count": 38
        }
      ]
    },
    {
      "cell_type": "markdown",
      "source": [
        "## 5. Formulate the quadratic programming problem in the lower dimensional space"
      ],
      "metadata": {
        "id": "SWjrZcMBvlz2"
      }
    },
    {
      "cell_type": "markdown",
      "source": [
        "## 6. Solve the quadratic programming problem in a reduced subspace to obtain the solution vector Y"
      ],
      "metadata": {
        "id": "mogWbfhVvqz8"
      }
    },
    {
      "cell_type": "markdown",
      "source": [
        "After approximating Q, we substitute it into the QPFS optimization equation:\n",
        " $$ \\min_x \\frac{1}{2} (1 - \\alpha) x^T Q x - \\alpha F^T x $$\n",
        "with constraints:\n",
        "$$ x \\geq 0 $$\n",
        "$$ \\sum x =1 $$\n",
        "\n",
        "Since Q is decomposed as $$ \\hat{Q} = \\hat{U} \\hat{\\Lambda} \\hat{U} ^T $$\n",
        "\n",
        "We rewrite the problem in a ***reduced space*** using a new variable y:\n",
        "$$\n",
        "y = \\hat{U} ^T x\n",
        "$$\n",
        "\n",
        "This transorms the optimization problem to:\n",
        "\n",
        "$$ \\min_y \\frac{1}{2} (1 - \\alpha) y^T \\Lambda y - \\alpha F^T \\hat{U} y $$\n",
        "with constraints\n",
        "$$ y \\geq 0 (non-negativity )$$\n",
        "$$ \\sum y =1 (normalization ) $$\n",
        "\n",
        "\n",
        "\n",
        "which is $\\textit{simpler and faster}$ to solve because $\\Lambda$ is diagonal."
      ],
      "metadata": {
        "id": "zrS_bNu74Dm4"
      }
    },
    {
      "cell_type": "code",
      "source": [
        "# Lets find alpha (trade-off between relevance and redundancy)\n",
        "AB= np.concatenate((A,B),axis=1)\n",
        "# print(AB)\n",
        "q= np.mean(AB) # found the mean of the feature redundancy using approximation of A and B\n",
        "f= np.mean(F) # F has been calculated on the first step: the feature relevance to the class label.\n",
        "\n",
        "alpha = q/ (q+f)\n",
        "\n",
        "print(alpha)\n"
      ],
      "metadata": {
        "colab": {
          "base_uri": "https://localhost:8080/"
        },
        "id": "CeVq1NQ57vlA",
        "outputId": "894bbe36-b11a-4e17-c55c-5fba8caa2c28"
      },
      "execution_count": 36,
      "outputs": [
        {
          "output_type": "stream",
          "name": "stdout",
          "text": [
            "0.5319139357181264\n"
          ]
        }
      ]
    },
    {
      "cell_type": "code",
      "source": [],
      "metadata": {
        "id": "OMGsGkCMMOZ9"
      },
      "execution_count": 59,
      "outputs": []
    },
    {
      "cell_type": "markdown",
      "source": [
        "#### defining a solver function for Y"
      ],
      "metadata": {
        "id": "61ZRHamzMk6m"
      }
    },
    {
      "cell_type": "code",
      "source": [
        "from cvxopt import matrix, solvers\n",
        "def solve_reduced_qp(Lambda_hat, U_hat, F, alpha):\n",
        "\n",
        "  \"\"\"Solves the reduced-space QP problem for y using qpsolvers.\n",
        "      Parameters:\n",
        "        Lambda_hat (numpy.ndarray): Diagonal matrix of eigenvalues (k x k).\n",
        "        U_hat (numpy.ndarray): Matrix of eigenvectors (M x k).\n",
        "        F (numpy.ndarray): Feature relevance vector (M,).\n",
        "        alpha (float): Trade-off parameter between redundancy and relevance.\n",
        "    Returns:\n",
        "      y (numpy.ndarray): Solution vector in reduced space.\n",
        "  \"\"\"\n",
        "  k = Lambda_hat.shape[0]  # Reduced dimensionality\n",
        "\n",
        "  # Define QP terms\n",
        "  P = matrix((1 - alpha) * Lambda_hat)  # Quadratic term\n",
        "  # print(P)\n",
        "  q = matrix(-alpha * (F.T @ U_hat))  # Linear term\n",
        "\n",
        "  # Constraints\n",
        "  G = matrix(-np.eye(k))  # Non-negativity constraint (y >= 0)\n",
        "  h = matrix(np.zeros(k))\n",
        "\n",
        "  A = matrix(np.ones((1, k)))  # Sum constraint (sum(y) = 1)\n",
        "  b = matrix(1.0)\n",
        "\n",
        "  # Solve QP problem\n",
        "  solvers.options[\"show_progress\"]=True\n",
        "  sol = solvers.qp(P, q, G, h, A, b)\n",
        "  # print(sol)\n",
        "  y = np.array(sol['x']).flatten()  # Extract solution vector\n",
        "\n",
        "  return y\n",
        "\n",
        "\n",
        "\n"
      ],
      "metadata": {
        "id": "T2IF-bnhGfyN"
      },
      "execution_count": 64,
      "outputs": []
    },
    {
      "cell_type": "markdown",
      "source": [
        "#### solving for y"
      ],
      "metadata": {
        "id": "Pm85_4InOfra"
      }
    },
    {
      "cell_type": "code",
      "source": [
        "y_optimal = solve_reduced_qp(Lambda_hat, U, F, alpha)\n",
        "print(y_optimal)"
      ],
      "metadata": {
        "id": "Ru20hzTlMv37",
        "outputId": "de22a5f0-ecb0-4164-e164-2204f6b61b45",
        "colab": {
          "base_uri": "https://localhost:8080/"
        }
      },
      "execution_count": 65,
      "outputs": [
        {
          "output_type": "stream",
          "name": "stdout",
          "text": [
            "     pcost       dcost       gap    pres   dres\n",
            " 0:  1.4643e-02 -1.0815e+00  1e+00  1e-16  2e+00\n",
            " 1:  3.3886e-04 -6.0029e-02  6e-02  1e-16  1e-01\n",
            " 2: -9.3542e-03 -1.4783e-02  5e-03  1e-16  9e-17\n",
            " 3: -9.5731e-03 -9.6665e-03  9e-05  2e-16  4e-17\n",
            " 4: -9.5732e-03 -9.5742e-03  9e-07  1e-16  9e-17\n",
            " 5: -9.5732e-03 -9.5732e-03  9e-09  1e-16  5e-17\n",
            "Optimal solution found.\n",
            "[0.81630121 0.18369879]\n"
          ]
        }
      ]
    },
    {
      "cell_type": "markdown",
      "source": [
        "## 7. Return to the original space"
      ],
      "metadata": {
        "id": "tgFWMFbivwW3"
      }
    },
    {
      "cell_type": "code",
      "source": [
        "x = U @ y_optimal\n",
        "print(x)"
      ],
      "metadata": {
        "id": "-2lheyHJO2-I",
        "outputId": "aef26d12-93d3-4061-9159-7a3dddb6ac93",
        "colab": {
          "base_uri": "https://localhost:8080/"
        }
      },
      "execution_count": 66,
      "outputs": [
        {
          "output_type": "stream",
          "name": "stdout",
          "text": [
            "[0.45684047 0.5991813  0.35139314 0.0943098 ]\n"
          ]
        }
      ]
    },
    {
      "cell_type": "markdown",
      "source": [
        "## 8. Visualize the feature importance scores and selected features"
      ],
      "metadata": {
        "id": "lKLlOXX8SVLO"
      }
    },
    {
      "cell_type": "code",
      "source": [
        "import matplotlib.pyplot as plt\n",
        "import seaborn as sns"
      ],
      "metadata": {
        "id": "pKWTaBGMkbz9"
      },
      "execution_count": 67,
      "outputs": []
    },
    {
      "cell_type": "code",
      "source": [
        "# Visualize feature importance\n",
        "plt.figure(figsize=(8,5))\n",
        "sns.barplot(x=iris.feature_names, y=x, palette=\"viridis\")\n",
        "plt.xlabel(\"Features\")\n",
        "plt.ylabel(\"Importance Score\")\n",
        "plt.title(\"QPFS Feature Importance Scores\")\n",
        "plt.show()\n"
      ],
      "metadata": {
        "colab": {
          "base_uri": "https://localhost:8080/",
          "height": 574
        },
        "id": "KdWsyTiMkGEJ",
        "outputId": "182fbb8d-5742-4b4c-bd3d-7bdf59799111"
      },
      "execution_count": 68,
      "outputs": [
        {
          "output_type": "stream",
          "name": "stderr",
          "text": [
            "<ipython-input-68-0a2154deeeea>:3: FutureWarning: \n",
            "\n",
            "Passing `palette` without assigning `hue` is deprecated and will be removed in v0.14.0. Assign the `x` variable to `hue` and set `legend=False` for the same effect.\n",
            "\n",
            "  sns.barplot(x=iris.feature_names, y=x, palette=\"viridis\")\n"
          ]
        },
        {
          "output_type": "display_data",
          "data": {
            "text/plain": [
              "<Figure size 800x500 with 1 Axes>"
            ],
            "image/png": "[encoded data removed]"
          },
          "metadata": {}
        }
      ]
    },
    {
      "cell_type": "code",
      "source": [],
      "metadata": {
        "id": "Trr20SY_kjvK"
      },
      "execution_count": null,
      "outputs": []
    }
  ]
}