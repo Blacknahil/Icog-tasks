{
  "nbformat": 4,
  "nbformat_minor": 0,
  "metadata": {
    "colab": {
      "provenance": [],
      "include_colab_link": true
    },
    "kernelspec": {
      "name": "python3",
      "display_name": "Python 3"
    },
    "language_info": {
      "name": "python"
    }
  },
  "cells": [
    {
      "cell_type": "markdown",
      "metadata": {
        "id": "view-in-github",
        "colab_type": "text"
      },
      "source": [
        "<a href=\"https://colab.research.google.com/github/Blacknahil/Icog-tasks/blob/main/qpfs/qpfs_for_iris_approximation.ipynb\" target=\"_parent\"><img src=\"https://colab.research.google.com/assets/colab-badge.svg\" alt=\"Open In Colab\"/></a>"
      ]
    },
    {
      "cell_type": "markdown",
      "source": [
        "### This is a qpfs applied to iris data set with approximation method."
      ],
      "metadata": {
        "id": "eoj5V6b4LZ0F"
      }
    },
    {
      "cell_type": "markdown",
      "source": [
        "# 1. Load and preproccess the data"
      ],
      "metadata": {
        "id": "mazDYTezRhtq"
      }
    },
    {
      "cell_type": "markdown",
      "source": [
        "### imports"
      ],
      "metadata": {
        "id": "mHFqxvEkUx01"
      }
    },
    {
      "cell_type": "code",
      "source": [
        "from sklearn.datasets import load_iris\n",
        "import numpy as np\n",
        "import pandas as pd\n",
        "from sklearn.feature_selection import mutual_info_classif"
      ],
      "metadata": {
        "id": "ERTubd8DU8tz"
      },
      "execution_count": 2,
      "outputs": []
    },
    {
      "cell_type": "markdown",
      "source": [
        "Loading iris"
      ],
      "metadata": {
        "id": "9eI1EF_rU2Pe"
      }
    },
    {
      "cell_type": "code",
      "source": [
        "iris= load_iris()"
      ],
      "metadata": {
        "id": "58ez6YqdU7LW"
      },
      "execution_count": 3,
      "outputs": []
    },
    {
      "cell_type": "code",
      "source": [
        "X = pd.DataFrame(iris.data, columns=iris.feature_names)  # Feature matrix\n",
        "y = iris.target  # Target labels (flower species)"
      ],
      "metadata": {
        "id": "-e22OoWtVTVc"
      },
      "execution_count": 4,
      "outputs": []
    },
    {
      "cell_type": "markdown",
      "source": [
        "# *Steps for QPFS*"
      ],
      "metadata": {
        "id": "NEJPCmxHxAQU"
      }
    },
    {
      "cell_type": "markdown",
      "source": [
        "## 1. Compute feature relevance (F) using Mutual information and Feature dependecy Q using pearson coefficient"
      ],
      "metadata": {
        "id": "Hc5bxvP2RodJ"
      }
    },
    {
      "cell_type": "markdown",
      "source": [
        "Lets calculate the mutual information(MI) between each feature and the class labels."
      ],
      "metadata": {
        "id": "OUPKaXo9VyGl"
      }
    },
    {
      "cell_type": "code",
      "source": [
        "F=mutual_info_classif(X,y)\n",
        "F= F/np.max(F) # Normalize the mutual information to be in the range [0,1]\n",
        "print(F)"
      ],
      "metadata": {
        "id": "vjrw5N5xVmmh",
        "outputId": "9872b458-746c-40ed-8251-55e33c2da01d",
        "colab": {
          "base_uri": "https://localhost:8080/"
        }
      },
      "execution_count": 5,
      "outputs": [
        {
          "output_type": "stream",
          "name": "stdout",
          "text": [
            "[0.53124962 0.29313172 0.9960259  1.        ]\n"
          ]
        }
      ]
    },
    {
      "cell_type": "markdown",
      "source": [
        "print the feature relevance scores, that is  how well each feature predicts the target class. Higher F values mean more relevant features."
      ],
      "metadata": {
        "id": "OM2yzficXbh5"
      }
    },
    {
      "cell_type": "code",
      "source": [
        "## print the feature relevance scores\n",
        "for i in range(len(iris.feature_names)):\n",
        "    print(f\"{iris.feature_names[i]}: {F[i]}\")"
      ],
      "metadata": {
        "colab": {
          "base_uri": "https://localhost:8080/"
        },
        "id": "LNnc5Vb3W23Y",
        "outputId": "ff2b0197-371b-455b-9a15-ed83c9d825f7"
      },
      "execution_count": null,
      "outputs": [
        {
          "output_type": "stream",
          "name": "stdout",
          "text": [
            "sepal length (cm): 0.5016730501171255\n",
            "sepal width (cm): 0.2465809262463776\n",
            "petal length (cm): 1.0\n",
            "petal width (cm): 0.9967748620636285\n"
          ]
        }
      ]
    },
    {
      "cell_type": "markdown",
      "source": [
        " Computer the feature similarity/ redundancy Using Pearson Correlation"
      ],
      "metadata": {
        "id": "D4ArAm3lR2zo"
      }
    },
    {
      "cell_type": "markdown",
      "source": [
        "Lets create a 4*4 similarity matrix Q using Pearson Correlation"
      ],
      "metadata": {
        "id": "cZ5u8ElsXsqY"
      }
    },
    {
      "cell_type": "code",
      "source": [
        "from scipy.stats import pearsonr"
      ],
      "metadata": {
        "id": "DWcW4c9zY4Uo"
      },
      "execution_count": 6,
      "outputs": []
    },
    {
      "cell_type": "code",
      "source": [
        "num_featues= X.shape[1]\n",
        "# print(num_featues)\n",
        "Q= np.zeros((num_featues,num_featues))\n",
        "# print(Q)\n",
        "\n",
        "for i in range(num_featues):\n",
        "  for j in range(i,num_featues):\n",
        "    Q[i, j], other_x = pearsonr(X.iloc[:, i], X.iloc[:, j])\n",
        "    Q[j,i]=Q[i,j]\n",
        "    # print(iris.feature_names[i],iris.feature_names[j],Q[i,j])\n",
        "    # print(\"\\n\")\n",
        "\n",
        "# Take the absolute value to measure similarity\n",
        "Q= np.abs(Q)"
      ],
      "metadata": {
        "id": "6tNbzvSeX6gU"
      },
      "execution_count": 7,
      "outputs": []
    },
    {
      "cell_type": "code",
      "source": [
        "print(\"Feature Similarity Matrix(Q):\")\n",
        "print(Q)"
      ],
      "metadata": {
        "colab": {
          "base_uri": "https://localhost:8080/"
        },
        "id": "qaKsJ1HCakB-",
        "outputId": "5e35fa36-4a7d-44e8-e07f-7d8aee92457a"
      },
      "execution_count": 8,
      "outputs": [
        {
          "output_type": "stream",
          "name": "stdout",
          "text": [
            "Feature Similarity Matrix(Q):\n",
            "[[1.         0.11756978 0.87175378 0.81794113]\n",
            " [0.11756978 1.         0.4284401  0.36612593]\n",
            " [0.87175378 0.4284401  1.         0.96286543]\n",
            " [0.81794113 0.36612593 0.96286543 1.        ]]\n"
          ]
        }
      ]
    },
    {
      "cell_type": "markdown",
      "source": [
        "Measure how redundant features/columns are to each other. Higher Qij values mean more redundancy"
      ],
      "metadata": {
        "id": "vxsFaHGma_gC"
      }
    },
    {
      "cell_type": "markdown",
      "source": [
        "## 2. Choosing r rows using uniform sampling with-out replacement to find A and B which charcterize the enire Q using Nystrom approximation."
      ],
      "metadata": {
        "id": "h_5C8HdXCih6"
      }
    },
    {
      "cell_type": "markdown",
      "source": [
        "$$\n",
        "Q = \\begin{bmatrix} A & B \\\\ B^T & E \\end{bmatrix}\n",
        "$$\n",
        "\n",
        "$$\n",
        "where:\n",
        " A \\in \\mathbb{R}^{k \\times k},\n",
        "B \\in \\mathbb{R}^{k \\times (M-k)},\n",
        "E \\in \\mathbb{R}^{(M-k) \\times (M-k)}\n",
        "$$\n"
      ],
      "metadata": {
        "id": "XgqgOJtmDYH2"
      }
    },
    {
      "cell_type": "markdown",
      "source": [
        "**Uniform random sampling is used to find A and B**"
      ],
      "metadata": {
        "id": "cY2ptwx9Ed6D"
      }
    },
    {
      "cell_type": "code",
      "source": [
        "def get_AB(Q,r):\n",
        "  M = Q.shape[0]  # Total number of features\n",
        "\n",
        "  # Randomly select r unique row indices\n",
        "  selected_rows = np.random.choice(M, r, replace=False)\n",
        "  selected_rows.sort()\n",
        "\n",
        "  # Extract A (r x r submatrix)\n",
        "  A = Q[np.ix_(selected_rows, selected_rows)]\n",
        "  remaining_cols = np.setdiff1d(np.arange(M), selected_rows)  # Non-selected columns\n",
        "  B = Q[np.ix_(selected_rows, remaining_cols)]\n",
        "\n",
        "  return A,B\n"
      ],
      "metadata": {
        "id": "jKevSsTTEjdV"
      },
      "execution_count": 9,
      "outputs": []
    },
    {
      "cell_type": "code",
      "source": [
        "A,B= get_AB(Q,2)"
      ],
      "metadata": {
        "id": "0FE5KdDMKFed"
      },
      "execution_count": 10,
      "outputs": []
    },
    {
      "cell_type": "markdown",
      "source": [
        "## 3. Set the value of the α parameter"
      ],
      "metadata": {
        "id": "ALgZoJ6Bhhaf"
      }
    },
    {
      "cell_type": "markdown",
      "source": [
        "## 4. Apply the Nystr ̈om method knowing [A B]. Obtain an approximation of the eigenvalues and eigenvectors of Q."
      ],
      "metadata": {
        "id": "yr5FksXkhmlm"
      }
    },
    {
      "cell_type": "markdown",
      "source": [
        "### 4.1 Find S"
      ],
      "metadata": {
        "id": "heZ1HxCOh9Bs"
      }
    },
    {
      "cell_type": "markdown",
      "source": [
        "$$\n",
        "S = A + A^{-1/2} B B^T A^{-1/2}\n",
        "$$"
      ],
      "metadata": {
        "id": "Eo0HVTNalUt_"
      }
    },
    {
      "cell_type": "code",
      "source": [
        "def diagonalize(matrix):\n",
        "    eigenvalues, eigenvectors = np.linalg.eig(matrix)\n",
        "    Å= np.diag(eigenvalues)\n",
        "    return Å, eigenvectors"
      ],
      "metadata": {
        "id": "j0H-j1j7iiBZ"
      },
      "execution_count": 15,
      "outputs": []
    },
    {
      "cell_type": "code",
      "source": [
        "def get_inverse_square_root(matrix):\n",
        "    Å,eigenvectors = diagonalize(matrix)\n",
        "    sqrt_Å= np.sqrt(Å)\n",
        "    inverted_sqrt_Å = np.linalg.inv(sqrt_Å)\n",
        "    inverted_root_matrix= eigenvectors @ inverted_sqrt_Å @ eigenvectors.T\n",
        "    return inverted_root_matrix"
      ],
      "metadata": {
        "id": "Bp8IEU4NjG3Z"
      },
      "execution_count": 14,
      "outputs": []
    },
    {
      "cell_type": "code",
      "source": [
        "inverted_sqrt_A = get_inverse_square_root(A)\n",
        "S = A +inverted_sqrt_A @ B @ B.T @ inverted_sqrt_A\n",
        "print(S)"
      ],
      "metadata": {
        "id": "47tmP67KlZeS",
        "outputId": "d1a9ace6-ddd8-4914-fecd-af5e58401d13",
        "colab": {
          "base_uri": "https://localhost:8080/"
        }
      },
      "execution_count": 17,
      "outputs": [
        {
          "output_type": "stream",
          "name": "stdout",
          "text": [
            "[[1.74977337 1.36127354]\n",
            " [1.36127354 1.22959129]]\n"
          ]
        }
      ]
    },
    {
      "cell_type": "markdown",
      "source": [
        "### 4.2 Represent S as a diagonalization"
      ],
      "metadata": {
        "id": "tf1c7poSiBMW"
      }
    },
    {
      "cell_type": "code",
      "source": [
        "sigma, R = diagonalize(S)\n",
        "print(sigma) ## which is equal to lamda in the digonalization of Q below\n",
        "print(R)"
      ],
      "metadata": {
        "id": "tBxSbAhOnZpO",
        "outputId": "59787024-ef1a-425a-aa9e-a41ef0328475",
        "colab": {
          "base_uri": "https://localhost:8080/"
        }
      },
      "execution_count": 20,
      "outputs": [
        {
          "output_type": "stream",
          "name": "stdout",
          "text": [
            "[[2.87558024 0.        ]\n",
            " [0.         0.10378442]]\n",
            "[[ 0.77060681 -0.63731087]\n",
            " [ 0.63731087  0.77060681]]\n"
          ]
        }
      ]
    },
    {
      "cell_type": "markdown",
      "source": [
        "### 4.3 Obtain an approximation of the eigenvalues and eigenvectors of Q."
      ],
      "metadata": {
        "id": "bUsGzMt_niM5"
      }
    },
    {
      "cell_type": "markdown",
      "source": [
        "$$\n",
        "\\hat{Q} = \\hat{U} \\hat{\\Lambda} \\hat{U} ^T\n",
        "$$\n",
        "$$\n",
        "where,\n",
        "\\hat{U} =\n",
        "\\begin{bmatrix}\n",
        "A \\\\\n",
        "B^T\n",
        "\\end{bmatrix}\n",
        "A^{-1/2} R \\hat{\\Sigma}^{-1/2}\n",
        "$$"
      ],
      "metadata": {
        "id": "Snjg-rAEnpBg"
      }
    },
    {
      "cell_type": "code",
      "source": [
        "stacked_AB= np.vstack((A,B.T))\n",
        "# print(stacked_AB)\n",
        "inverted_sqrt_sigma = get_inverse_square_root(sigma)\n",
        "# print(inverted_sqrt_sigma)\n",
        "\n",
        "U = stacked_AB @ inverted_sqrt_A @ R @ inverted_sqrt_sigma\n",
        "\n",
        "print(\"U\",U)"
      ],
      "metadata": {
        "id": "BHtWyHV0ooQx",
        "outputId": "56dddf2a-f96c-432a-a699-84a80375f3bf",
        "colab": {
          "base_uri": "https://localhost:8080/"
        }
      },
      "execution_count": 26,
      "outputs": [
        {
          "output_type": "stream",
          "name": "stdout",
          "text": [
            "U [[ 0.58918101 -0.13124041]\n",
            " [ 0.57403342  0.71093076]\n",
            " [ 0.51164074 -0.36069822]\n",
            " [ 0.24814335 -0.58927939]]\n"
          ]
        }
      ]
    },
    {
      "cell_type": "markdown",
      "source": [
        "To approximate Q we have found U.But we also need Λ.\n",
        " the Λ is approximated to the Σ"
      ],
      "metadata": {
        "id": "LIZpXaPevA0t"
      }
    },
    {
      "cell_type": "code",
      "source": [
        "Lambda_hat = sigma\n",
        "Lambda_hat.shape"
      ],
      "metadata": {
        "id": "vIr-h1LIvcmN"
      },
      "execution_count": 27,
      "outputs": []
    },
    {
      "cell_type": "markdown",
      "source": [
        "## 5. Formulate the quadratic programming problem in the lower dimensional space"
      ],
      "metadata": {
        "id": "SWjrZcMBvlz2"
      }
    },
    {
      "cell_type": "markdown",
      "source": [
        "## 6. Solve the quadratic programming problem in a reduced subspace to obtain the solution vector Y"
      ],
      "metadata": {
        "id": "mogWbfhVvqz8"
      }
    },
    {
      "cell_type": "markdown",
      "source": [
        "After approximating Q, we substitute it into the QPFS optimization equation:\n",
        " $$ \\min_x \\frac{1}{2} (1 - \\alpha) x^T Q x - \\alpha F^T x $$\n",
        "with constraints:\n",
        "$$ x \\geq 0 $$\n",
        "$$ \\sum x =1 $$\n",
        "\n",
        "Since Q is decomposed as $$ \\hat{Q} = \\hat{U} \\hat{\\Lambda} \\hat{U} ^T $$\n",
        "\n",
        "We rewrite the problem in a ***reduced space*** using a new variable y:\n",
        "$$\n",
        "y = \\hat{U} ^T x\n",
        "$$\n",
        "\n",
        "This transorms the optimization problem to:\n",
        "\n",
        "$$ \\min_y \\frac{1}{2} (1 - \\alpha) y^T \\Lambda y - \\alpha F^T \\hat{U} y $$\n",
        "with constraints\n",
        "$$ y \\geq 0 (non-negativity )$$\n",
        "$$ \\sum y =1 (normalization ) $$\n",
        "\n",
        "\n",
        "\n",
        "which is $\\textit{simpler and faster}$ to solve because $\\Lambda$ is diagonal."
      ],
      "metadata": {
        "id": "zrS_bNu74Dm4"
      }
    },
    {
      "cell_type": "code",
      "source": [
        "# Lets find alpha (trade-off between relevance and redundancy)\n",
        "AB= np.concatenate((A,B),axis=1)\n",
        "# print(AB)\n",
        "q= np.mean(AB) # found the mean of the feature redundancy using approximation of A and B\n",
        "f= np.mean(F) # F has been calculated on the first step: the feature relevance to the class label.\n",
        "\n",
        "alpha = q/ (q+f)\n",
        "\n",
        "print(alpha)\n"
      ],
      "metadata": {
        "id": "CeVq1NQ57vlA",
        "outputId": "894bbe36-b11a-4e17-c55c-5fba8caa2c28",
        "colab": {
          "base_uri": "https://localhost:8080/"
        }
      },
      "execution_count": 36,
      "outputs": [
        {
          "output_type": "stream",
          "name": "stdout",
          "text": [
            "0.5319139357181264\n"
          ]
        }
      ]
    },
    {
      "cell_type": "code",
      "source": [
        "def solve_reduced_qp(Lambda_hat, U_hat, F, alpha):\n",
        "\n",
        "  \"\"\"Solves the reduced-space QP problem for y using qpsolvers.\n",
        "      Parameters:\n",
        "        Lambda_hat (numpy.ndarray): Diagonal matrix of eigenvalues (k x k).\n",
        "        U_hat (numpy.ndarray): Matrix of eigenvectors (M x k).\n",
        "        F (numpy.ndarray): Feature relevance vector (M,).\n",
        "        alpha (float): Trade-off parameter between redundancy and relevance.\n",
        "    Returns:\n",
        "      y (numpy.ndarray): Solution vector in reduced space.\n",
        "  \"\"\"\n",
        "\n"
      ],
      "metadata": {
        "id": "T2IF-bnhGfyN",
        "outputId": "8d1ceb57-1d37-44fe-a778-df52264847e3",
        "colab": {
          "base_uri": "https://localhost:8080/",
          "height": 106
        }
      },
      "execution_count": 37,
      "outputs": [
        {
          "output_type": "error",
          "ename": "SyntaxError",
          "evalue": "incomplete input (<ipython-input-37-9c6d696e7524>, line 1)",
          "traceback": [
            "\u001b[0;36m  File \u001b[0;32m\"<ipython-input-37-9c6d696e7524>\"\u001b[0;36m, line \u001b[0;32m1\u001b[0m\n\u001b[0;31m    def solve_reduced_qp(Lambda_hat, U_hat, F, alpha):\u001b[0m\n\u001b[0m                                                      ^\u001b[0m\n\u001b[0;31mSyntaxError\u001b[0m\u001b[0;31m:\u001b[0m incomplete input\n"
          ]
        }
      ]
    },
    {
      "cell_type": "markdown",
      "source": [
        "## 7. Return to the original space"
      ],
      "metadata": {
        "id": "tgFWMFbivwW3"
      }
    },
    {
      "cell_type": "markdown",
      "source": [
        "## 4. Formulate and solve the quadratic programming(QP) Problem"
      ],
      "metadata": {
        "id": "54PYjDD3bPHB"
      }
    },
    {
      "cell_type": "markdown",
      "source": [
        "we solve the optimization problem $$ \\min_x \\frac{1}{2} (1 - \\alpha) x^T Q x - \\alpha F^T x $$\n",
        "\n",
        "with constraints:\n",
        "$$ x \\geq 0 $$\n",
        "$$ \\sum x =1 $$\n",
        "\n",
        "\n"
      ],
      "metadata": {
        "id": "HVBzLKiPbf00"
      }
    },
    {
      "cell_type": "code",
      "source": [
        "# Define alpha (trade-off between relevance and redundancy)\n",
        "alpha = 0.5\n"
      ],
      "metadata": {
        "id": "s8JNe2iPdWLM"
      },
      "execution_count": null,
      "outputs": []
    },
    {
      "cell_type": "markdown",
      "source": [
        "TO solve the optimization problem stated above we use a python library.\n",
        "CVXOPT is a Python library for convex optimization that is used to solve Quadratic Programming (QP) problems. However, CVXOPT requires a specific matrix format to work properly.\n",
        "\n"
      ],
      "metadata": {
        "id": "mlWfWSv_d0D2"
      }
    },
    {
      "cell_type": "code",
      "source": [
        "from cvxopt import matrix,solvers"
      ],
      "metadata": {
        "id": "qk3gm6fogvGa"
      },
      "execution_count": null,
      "outputs": []
    },
    {
      "cell_type": "code",
      "source": [
        "## covert to CVXOPT format\n",
        "P= matrix((1-alpha) * Q)\n",
        "# quadratic term: redundancy between features\n",
        "\n",
        "q= matrix(-alpha * F)\n",
        "# linear term:\n",
        "# repreasenting the contribution of each feature to the class label (0,1,2)\n",
        "num_features = X.shape[1]\n",
        "G = matrix(-np.eye(num_features)) # constraint x>=0\n",
        "\n",
        "h=matrix(np.zeros(num_features))\n",
        "A =matrix(np.ones((1,num_features))) # sum(x)=1 constraint\n",
        "b= matrix(1.0)\n"
      ],
      "metadata": {
        "id": "R7nRLKAmcBsy"
      },
      "execution_count": null,
      "outputs": []
    },
    {
      "cell_type": "markdown",
      "source": [
        "solve the QP problem using the solver imorted from cvxopt"
      ],
      "metadata": {
        "id": "heUvcg55jRgx"
      }
    },
    {
      "cell_type": "code",
      "source": [
        "solvers.options[\"show_progress\"]=True\n",
        "solution = solvers.qp(P,q,G,h,A,b)"
      ],
      "metadata": {
        "colab": {
          "base_uri": "https://localhost:8080/"
        },
        "id": "MGvowQONhkOe",
        "outputId": "516305d3-7f8b-4636-92a4-adc900b41a19"
      },
      "execution_count": null,
      "outputs": [
        {
          "output_type": "stream",
          "name": "stdout",
          "text": [
            "     pcost       dcost       gap    pres   dres\n",
            " 0: -2.0221e-01 -1.2646e+00  1e+00  0e+00  3e+00\n",
            " 1: -2.1391e-01 -2.7105e-01  6e-02  6e-17  1e-01\n",
            " 2: -2.5125e-01 -2.5468e-01  3e-03  8e-17  4e-04\n",
            " 3: -2.5373e-01 -2.5378e-01  5e-05  2e-16  5e-17\n",
            " 4: -2.5377e-01 -2.5377e-01  5e-07  2e-16  9e-17\n",
            " 5: -2.5377e-01 -2.5377e-01  5e-09  1e-16  8e-17\n",
            "Optimal solution found.\n"
          ]
        }
      ]
    },
    {
      "cell_type": "code",
      "source": [
        "print(solution)"
      ],
      "metadata": {
        "colab": {
          "base_uri": "https://localhost:8080/"
        },
        "id": "593qPdtOjmwl",
        "outputId": "9da5884e-0dcc-4ee6-b54f-468c68744261"
      },
      "execution_count": null,
      "outputs": [
        {
          "output_type": "stream",
          "name": "stdout",
          "text": [
            "{'x': <4x1 matrix, tc='d'>, 'y': <1x1 matrix, tc='d'>, 's': <4x1 matrix, tc='d'>, 'z': <4x1 matrix, tc='d'>, 'status': 'optimal', 'gap': 5.2106810943650045e-09, 'relative gap': 2.0533451115322696e-08, 'primal objective': -0.2537654807806094, 'dual objective': -0.2537654859912905, 'primal infeasibility': 1.1102230246251565e-16, 'dual infeasibility': 7.746237576137345e-17, 'primal slack': 1.5928457706238798e-09, 'dual slack': 6.996062713644981e-10, 'iterations': 5}\n"
          ]
        }
      ]
    },
    {
      "cell_type": "code",
      "source": [
        "## extract feature importance scores\n",
        "x = np.array(solution[\"x\"]).flatten()"
      ],
      "metadata": {
        "id": "JQI1OgpLjtaf"
      },
      "execution_count": null,
      "outputs": []
    },
    {
      "cell_type": "code",
      "source": [
        "# Print feature importance scores\n",
        "print(\"Feature Importance Scores:\", x)\n",
        "print()\n",
        "\n",
        "for i in range(len(iris.feature_names)):\n",
        "    print(f\"{iris.feature_names[i]}: {x[i]}\")"
      ],
      "metadata": {
        "colab": {
          "base_uri": "https://localhost:8080/"
        },
        "id": "1GeDFozykGpy",
        "outputId": "3641645f-5747-47ab-fd44-934091ae22ac"
      },
      "execution_count": null,
      "outputs": [
        {
          "output_type": "stream",
          "name": "stdout",
          "text": [
            "Feature Importance Scores: [1.59284577e-09 3.26849115e-08 5.49664350e-01 4.50335615e-01]\n",
            "\n",
            "sepal length (cm): 1.592845770623852e-09\n",
            "sepal width (cm): 3.268491146082756e-08\n",
            "petal length (cm): 0.5496643502479768\n",
            "petal width (cm): 0.4503356154742659\n"
          ]
        }
      ]
    },
    {
      "cell_type": "markdown",
      "source": [
        "## 5. Visualize the feature importance scores and selected features"
      ],
      "metadata": {
        "id": "lKLlOXX8SVLO"
      }
    },
    {
      "cell_type": "code",
      "source": [
        "import matplotlib.pyplot as plt\n",
        "import seaborn as sns"
      ],
      "metadata": {
        "id": "pKWTaBGMkbz9"
      },
      "execution_count": null,
      "outputs": []
    },
    {
      "cell_type": "code",
      "source": [
        "# Visualize feature importance\n",
        "plt.figure(figsize=(8,5))\n",
        "sns.barplot(x=iris.feature_names, y=x, palette=\"viridis\")\n",
        "plt.xlabel(\"Features\")\n",
        "plt.ylabel(\"Importance Score\")\n",
        "plt.title(\"QPFS Feature Importance Scores\")\n",
        "plt.show()\n"
      ],
      "metadata": {
        "colab": {
          "base_uri": "https://localhost:8080/",
          "height": 594
        },
        "id": "KdWsyTiMkGEJ",
        "outputId": "d2d751a8-f8fb-48b6-b536-a1c905b8972f"
      },
      "execution_count": null,
      "outputs": [
        {
          "output_type": "stream",
          "name": "stderr",
          "text": [
            "<ipython-input-23-0a2154deeeea>:3: FutureWarning: \n",
            "\n",
            "Passing `palette` without assigning `hue` is deprecated and will be removed in v0.14.0. Assign the `x` variable to `hue` and set `legend=False` for the same effect.\n",
            "\n",
            "  sns.barplot(x=iris.feature_names, y=x, palette=\"viridis\")\n"
          ]
        },
        {
          "output_type": "display_data",
          "data": {
            "text/plain": [
              "<Figure size 800x500 with 1 Axes>"
            ],
            "image/png": "[encoded data removed]"
          },
          "metadata": {}
        }
      ]
    },
    {
      "cell_type": "code",
      "source": [],
      "metadata": {
        "id": "Trr20SY_kjvK"
      },
      "execution_count": null,
      "outputs": []
    }
  ]
}