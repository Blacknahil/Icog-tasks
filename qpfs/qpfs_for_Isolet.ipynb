{
  "nbformat": 4,
  "nbformat_minor": 0,
  "metadata": {
    "colab": {
      "provenance": [],
      "include_colab_link": true
    },
    "kernelspec": {
      "name": "python3",
      "display_name": "Python 3"
    },
    "language_info": {
      "name": "python"
    }
  },
  "cells": [
    {
      "cell_type": "markdown",
      "metadata": {
        "id": "view-in-github",
        "colab_type": "text"
      },
      "source": [
        "<a href=\"https://colab.research.google.com/github/Blacknahil/Icog-tasks/blob/main/qpfs/qpfs_for_Isolet.ipynb\" target=\"_parent\"><img src=\"https://colab.research.google.com/assets/colab-badge.svg\" alt=\"Open In Colab\"/></a>"
      ]
    },
    {
      "cell_type": "markdown",
      "source": [
        "### This is a qpfs applied to Isolet data set with approximation method."
      ],
      "metadata": {
        "id": "eoj5V6b4LZ0F"
      }
    },
    {
      "cell_type": "markdown",
      "source": [
        "# 1. Load and preproccess the data"
      ],
      "metadata": {
        "id": "mazDYTezRhtq"
      }
    },
    {
      "cell_type": "markdown",
      "source": [
        "### imports"
      ],
      "metadata": {
        "id": "mHFqxvEkUx01"
      }
    },
    {
      "cell_type": "code",
      "source": [
        "from sklearn.datasets import load_iris\n",
        "import numpy as np\n",
        "import pandas as pd\n",
        "from sklearn.feature_selection import mutual_info_classif"
      ],
      "metadata": {
        "id": "ERTubd8DU8tz"
      },
      "execution_count": null,
      "outputs": []
    },
    {
      "cell_type": "markdown",
      "source": [
        "Loading Isolet\n",
        " data set"
      ],
      "metadata": {
        "id": "9eI1EF_rU2Pe"
      }
    },
    {
      "cell_type": "code",
      "source": [
        "!pip install ucimlrepo"
      ],
      "metadata": {
        "id": "58ez6YqdU7LW",
        "colab": {
          "base_uri": "https://localhost:8080/"
        },
        "outputId": "52d680e7-281b-42e6-f898-75a3bee5f35d"
      },
      "execution_count": null,
      "outputs": [
        {
          "output_type": "stream",
          "name": "stdout",
          "text": [
            "Collecting ucimlrepo\n",
            "  Downloading ucimlrepo-0.0.7-py3-none-any.whl.metadata (5.5 kB)\n",
            "Requirement already satisfied: pandas>=1.0.0 in /usr/local/lib/python3.11/dist-packages (from ucimlrepo) (2.2.2)\n",
            "Requirement already satisfied: certifi>=2020.12.5 in /usr/local/lib/python3.11/dist-packages (from ucimlrepo) (2025.1.31)\n",
            "Requirement already satisfied: numpy>=1.23.2 in /usr/local/lib/python3.11/dist-packages (from pandas>=1.0.0->ucimlrepo) (1.26.4)\n",
            "Requirement already satisfied: python-dateutil>=2.8.2 in /usr/local/lib/python3.11/dist-packages (from pandas>=1.0.0->ucimlrepo) (2.8.2)\n",
            "Requirement already satisfied: pytz>=2020.1 in /usr/local/lib/python3.11/dist-packages (from pandas>=1.0.0->ucimlrepo) (2025.1)\n",
            "Requirement already satisfied: tzdata>=2022.7 in /usr/local/lib/python3.11/dist-packages (from pandas>=1.0.0->ucimlrepo) (2025.1)\n",
            "Requirement already satisfied: six>=1.5 in /usr/local/lib/python3.11/dist-packages (from python-dateutil>=2.8.2->pandas>=1.0.0->ucimlrepo) (1.17.0)\n",
            "Downloading ucimlrepo-0.0.7-py3-none-any.whl (8.0 kB)\n",
            "Installing collected packages: ucimlrepo\n",
            "Successfully installed ucimlrepo-0.0.7\n"
          ]
        }
      ]
    },
    {
      "cell_type": "code",
      "source": [
        "from ucimlrepo import fetch_ucirepo, list_available_datasets\n"
      ],
      "metadata": {
        "id": "w7UPi79_dWRC"
      },
      "execution_count": null,
      "outputs": []
    },
    {
      "cell_type": "code",
      "source": [
        "#for datasets taken from UCI machine learning datasets\n",
        "def to_pandas_first_files(dataset_):\n",
        "  X = dataset_.data.features\n",
        "  y = dataset_.data.targets\n",
        "\n",
        "  data_f = pd.DataFrame(X)\n",
        "  data_f[\"targets\"] = y\n",
        "  return data_f\n",
        "\n",
        "\n",
        "#for datasests taken from Sklearn.datasets\n",
        "def to_pandas_second_files(dataset_):\n",
        "  X = dataset_.data\n",
        "  y = dataset_.target\n",
        "  data_f = pd.DataFrame(X)\n",
        "  data_f[\"targets\"] = y\n",
        "  return data_f"
      ],
      "metadata": {
        "id": "13gmNSsnfXfm"
      },
      "execution_count": null,
      "outputs": []
    },
    {
      "cell_type": "code",
      "source": [
        "isolet = fetch_ucirepo(id=54)\n",
        "isolet_df = to_pandas_first_files(isolet)\n",
        "isolet_df.head()"
      ],
      "metadata": {
        "colab": {
          "base_uri": "https://localhost:8080/",
          "height": 255
        },
        "id": "vpvxQXQLfcDI",
        "outputId": "7fefa03a-4fad-4450-f670-41de522cf071"
      },
      "execution_count": null,
      "outputs": [
        {
          "output_type": "execute_result",
          "data": {
            "text/plain": [
              "   Attribute1  Attribute2  Attribute3  Attribute4  Attribute5  Attribute6  \\\n",
              "0     -0.4394     -0.0930      0.1718      0.4620      0.6226      0.4704   \n",
              "1     -0.4348     -0.1198      0.2474      0.4036      0.5026      0.6328   \n",
              "2     -0.2330      0.2124      0.5014      0.5222     -0.3422     -0.5840   \n",
              "3     -0.3808     -0.0096      0.2602      0.2554     -0.4290     -0.6746   \n",
              "4     -0.3412      0.0946      0.6082      0.6216     -0.1622     -0.3784   \n",
              "\n",
              "   Attribute7  Attribute8  Attribute9  Attribute10  ...  Attribute609  \\\n",
              "0      0.3578      0.0478     -0.1184      -0.2310  ...        0.4102   \n",
              "1      0.4948      0.0338     -0.0520      -0.1302  ...        0.0000   \n",
              "2     -0.7168     -0.6342     -0.8614      -0.8318  ...       -0.1112   \n",
              "3     -0.6868     -0.6650     -0.8410      -0.9614  ...       -0.0504   \n",
              "4     -0.4324     -0.4358     -0.4966      -0.5406  ...        0.1562   \n",
              "\n",
              "   Attribute610  Attribute611  Attribute612  Attribute613  Attribute614  \\\n",
              "0        0.2052        0.3846        0.3590        0.5898        0.3334   \n",
              "1        0.2954        0.2046        0.4772        0.0454        0.2046   \n",
              "2       -0.0476       -0.1746        0.0318       -0.0476        0.1112   \n",
              "3       -0.0360       -0.1224        0.1366        0.2950        0.0792   \n",
              "4        0.3124        0.2500       -0.0938        0.1562        0.3124   \n",
              "\n",
              "   Attribute615  Attribute616  Attribute617  targets  \n",
              "0        0.6410        0.5898       -0.4872      1.0  \n",
              "1        0.4318        0.4546       -0.0910      1.0  \n",
              "2        0.2540        0.1588       -0.4762      2.0  \n",
              "3       -0.0072        0.0936       -0.1510      2.0  \n",
              "4        0.3124        0.2188       -0.2500      3.0  \n",
              "\n",
              "[5 rows x 618 columns]"
            ],
            "text/html": [
              "\n",
              "  <div id=\"df-c8320cb9-d565-4560-8d0b-9dc6826d3767\" class=\"colab-df-container\">\n",
              "    <div>\n",
              "<style scoped>\n",
              "    .dataframe tbody tr th:only-of-type {\n",
              "        vertical-align: middle;\n",
              "    }\n",
              "\n",
              "    .dataframe tbody tr th {\n",
              "        vertical-align: top;\n",
              "    }\n",
              "\n",
              "    .dataframe thead th {\n",
              "        text-align: right;\n",
              "    }\n",
              "</style>\n",
              "<table border=\"1\" class=\"dataframe\">\n",
              "  <thead>\n",
              "    <tr style=\"text-align: right;\">\n",
              "      <th></th>\n",
              "      <th>Attribute1</th>\n",
              "      <th>Attribute2</th>\n",
              "      <th>Attribute3</th>\n",
              "      <th>Attribute4</th>\n",
              "      <th>Attribute5</th>\n",
              "      <th>Attribute6</th>\n",
              "      <th>Attribute7</th>\n",
              "      <th>Attribute8</th>\n",
              "      <th>Attribute9</th>\n",
              "      <th>Attribute10</th>\n",
              "      <th>...</th>\n",
              "      <th>Attribute609</th>\n",
              "      <th>Attribute610</th>\n",
              "      <th>Attribute611</th>\n",
              "      <th>Attribute612</th>\n",
              "      <th>Attribute613</th>\n",
              "      <th>Attribute614</th>\n",
              "      <th>Attribute615</th>\n",
              "      <th>Attribute616</th>\n",
              "      <th>Attribute617</th>\n",
              "      <th>targets</th>\n",
              "    </tr>\n",
              "  </thead>\n",
              "  <tbody>\n",
              "    <tr>\n",
              "      <th>0</th>\n",
              "      <td>-0.4394</td>\n",
              "      <td>-0.0930</td>\n",
              "      <td>0.1718</td>\n",
              "      <td>0.4620</td>\n",
              "      <td>0.6226</td>\n",
              "      <td>0.4704</td>\n",
              "      <td>0.3578</td>\n",
              "      <td>0.0478</td>\n",
              "      <td>-0.1184</td>\n",
              "      <td>-0.2310</td>\n",
              "      <td>...</td>\n",
              "      <td>0.4102</td>\n",
              "      <td>0.2052</td>\n",
              "      <td>0.3846</td>\n",
              "      <td>0.3590</td>\n",
              "      <td>0.5898</td>\n",
              "      <td>0.3334</td>\n",
              "      <td>0.6410</td>\n",
              "      <td>0.5898</td>\n",
              "      <td>-0.4872</td>\n",
              "      <td>1.0</td>\n",
              "    </tr>\n",
              "    <tr>\n",
              "      <th>1</th>\n",
              "      <td>-0.4348</td>\n",
              "      <td>-0.1198</td>\n",
              "      <td>0.2474</td>\n",
              "      <td>0.4036</td>\n",
              "      <td>0.5026</td>\n",
              "      <td>0.6328</td>\n",
              "      <td>0.4948</td>\n",
              "      <td>0.0338</td>\n",
              "      <td>-0.0520</td>\n",
              "      <td>-0.1302</td>\n",
              "      <td>...</td>\n",
              "      <td>0.0000</td>\n",
              "      <td>0.2954</td>\n",
              "      <td>0.2046</td>\n",
              "      <td>0.4772</td>\n",
              "      <td>0.0454</td>\n",
              "      <td>0.2046</td>\n",
              "      <td>0.4318</td>\n",
              "      <td>0.4546</td>\n",
              "      <td>-0.0910</td>\n",
              "      <td>1.0</td>\n",
              "    </tr>\n",
              "    <tr>\n",
              "      <th>2</th>\n",
              "      <td>-0.2330</td>\n",
              "      <td>0.2124</td>\n",
              "      <td>0.5014</td>\n",
              "      <td>0.5222</td>\n",
              "      <td>-0.3422</td>\n",
              "      <td>-0.5840</td>\n",
              "      <td>-0.7168</td>\n",
              "      <td>-0.6342</td>\n",
              "      <td>-0.8614</td>\n",
              "      <td>-0.8318</td>\n",
              "      <td>...</td>\n",
              "      <td>-0.1112</td>\n",
              "      <td>-0.0476</td>\n",
              "      <td>-0.1746</td>\n",
              "      <td>0.0318</td>\n",
              "      <td>-0.0476</td>\n",
              "      <td>0.1112</td>\n",
              "      <td>0.2540</td>\n",
              "      <td>0.1588</td>\n",
              "      <td>-0.4762</td>\n",
              "      <td>2.0</td>\n",
              "    </tr>\n",
              "    <tr>\n",
              "      <th>3</th>\n",
              "      <td>-0.3808</td>\n",
              "      <td>-0.0096</td>\n",
              "      <td>0.2602</td>\n",
              "      <td>0.2554</td>\n",
              "      <td>-0.4290</td>\n",
              "      <td>-0.6746</td>\n",
              "      <td>-0.6868</td>\n",
              "      <td>-0.6650</td>\n",
              "      <td>-0.8410</td>\n",
              "      <td>-0.9614</td>\n",
              "      <td>...</td>\n",
              "      <td>-0.0504</td>\n",
              "      <td>-0.0360</td>\n",
              "      <td>-0.1224</td>\n",
              "      <td>0.1366</td>\n",
              "      <td>0.2950</td>\n",
              "      <td>0.0792</td>\n",
              "      <td>-0.0072</td>\n",
              "      <td>0.0936</td>\n",
              "      <td>-0.1510</td>\n",
              "      <td>2.0</td>\n",
              "    </tr>\n",
              "    <tr>\n",
              "      <th>4</th>\n",
              "      <td>-0.3412</td>\n",
              "      <td>0.0946</td>\n",
              "      <td>0.6082</td>\n",
              "      <td>0.6216</td>\n",
              "      <td>-0.1622</td>\n",
              "      <td>-0.3784</td>\n",
              "      <td>-0.4324</td>\n",
              "      <td>-0.4358</td>\n",
              "      <td>-0.4966</td>\n",
              "      <td>-0.5406</td>\n",
              "      <td>...</td>\n",
              "      <td>0.1562</td>\n",
              "      <td>0.3124</td>\n",
              "      <td>0.2500</td>\n",
              "      <td>-0.0938</td>\n",
              "      <td>0.1562</td>\n",
              "      <td>0.3124</td>\n",
              "      <td>0.3124</td>\n",
              "      <td>0.2188</td>\n",
              "      <td>-0.2500</td>\n",
              "      <td>3.0</td>\n",
              "    </tr>\n",
              "  </tbody>\n",
              "</table>\n",
              "<p>5 rows × 618 columns</p>\n",
              "</div>\n",
              "    <div class=\"colab-df-buttons\">\n",
              "\n",
              "  <div class=\"colab-df-container\">\n",
              "    <button class=\"colab-df-convert\" onclick=\"convertToInteractive('df-c8320cb9-d565-4560-8d0b-9dc6826d3767')\"\n",
              "            title=\"Convert this dataframe to an interactive table.\"\n",
              "            style=\"display:none;\">\n",
              "\n",
              "  <svg xmlns=\"http://www.w3.org/2000/svg\" height=\"24px\" viewBox=\"0 -960 960 960\">\n",
              "    <path d=\"M120-120v-720h720v720H120Zm60-500h600v-160H180v160Zm220 220h160v-160H400v160Zm0 220h160v-160H400v160ZM180-400h160v-160H180v160Zm440 0h160v-160H620v160ZM180-180h160v-160H180v160Zm440 0h160v-160H620v160Z\"/>\n",
              "  </svg>\n",
              "    </button>\n",
              "\n",
              "  <style>\n",
              "    .colab-df-container {\n",
              "      display:flex;\n",
              "      gap: 12px;\n",
              "    }\n",
              "\n",
              "    .colab-df-convert {\n",
              "      background-color: #E8F0FE;\n",
              "      border: none;\n",
              "      border-radius: 50%;\n",
              "      cursor: pointer;\n",
              "      display: none;\n",
              "      fill: #1967D2;\n",
              "      height: 32px;\n",
              "      padding: 0 0 0 0;\n",
              "      width: 32px;\n",
              "    }\n",
              "\n",
              "    .colab-df-convert:hover {\n",
              "      background-color: #E2EBFA;\n",
              "      box-shadow: 0px 1px 2px rgba(60, 64, 67, 0.3), 0px 1px 3px 1px rgba(60, 64, 67, 0.15);\n",
              "      fill: #174EA6;\n",
              "    }\n",
              "\n",
              "    .colab-df-buttons div {\n",
              "      margin-bottom: 4px;\n",
              "    }\n",
              "\n",
              "    [theme=dark] .colab-df-convert {\n",
              "      background-color: #3B4455;\n",
              "      fill: #D2E3FC;\n",
              "    }\n",
              "\n",
              "    [theme=dark] .colab-df-convert:hover {\n",
              "      background-color: #434B5C;\n",
              "      box-shadow: 0px 1px 3px 1px rgba(0, 0, 0, 0.15);\n",
              "      filter: drop-shadow(0px 1px 2px rgba(0, 0, 0, 0.3));\n",
              "      fill: #FFFFFF;\n",
              "    }\n",
              "  </style>\n",
              "\n",
              "    <script>\n",
              "      const buttonEl =\n",
              "        document.querySelector('#df-c8320cb9-d565-4560-8d0b-9dc6826d3767 button.colab-df-convert');\n",
              "      buttonEl.style.display =\n",
              "        google.colab.kernel.accessAllowed ? 'block' : 'none';\n",
              "\n",
              "      async function convertToInteractive(key) {\n",
              "        const element = document.querySelector('#df-c8320cb9-d565-4560-8d0b-9dc6826d3767');\n",
              "        const dataTable =\n",
              "          await google.colab.kernel.invokeFunction('convertToInteractive',\n",
              "                                                    [key], {});\n",
              "        if (!dataTable) return;\n",
              "\n",
              "        const docLinkHtml = 'Like what you see? Visit the ' +\n",
              "          '<a target=\"_blank\" href=https://colab.research.google.com/notebooks/data_table.ipynb>data table notebook</a>'\n",
              "          + ' to learn more about interactive tables.';\n",
              "        element.innerHTML = '';\n",
              "        dataTable['output_type'] = 'display_data';\n",
              "        await google.colab.output.renderOutput(dataTable, element);\n",
              "        const docLink = document.createElement('div');\n",
              "        docLink.innerHTML = docLinkHtml;\n",
              "        element.appendChild(docLink);\n",
              "      }\n",
              "    </script>\n",
              "  </div>\n",
              "\n",
              "\n",
              "<div id=\"df-dc1aec41-42de-4ac3-98d8-38297cc2ad59\">\n",
              "  <button class=\"colab-df-quickchart\" onclick=\"quickchart('df-dc1aec41-42de-4ac3-98d8-38297cc2ad59')\"\n",
              "            title=\"Suggest charts\"\n",
              "            style=\"display:none;\">\n",
              "\n",
              "<svg xmlns=\"http://www.w3.org/2000/svg\" height=\"24px\"viewBox=\"0 0 24 24\"\n",
              "     width=\"24px\">\n",
              "    <g>\n",
              "        <path d=\"M19 3H5c-1.1 0-2 .9-2 2v14c0 1.1.9 2 2 2h14c1.1 0 2-.9 2-2V5c0-1.1-.9-2-2-2zM9 17H7v-7h2v7zm4 0h-2V7h2v10zm4 0h-2v-4h2v4z\"/>\n",
              "    </g>\n",
              "</svg>\n",
              "  </button>\n",
              "\n",
              "<style>\n",
              "  .colab-df-quickchart {\n",
              "      --bg-color: #E8F0FE;\n",
              "      --fill-color: #1967D2;\n",
              "      --hover-bg-color: #E2EBFA;\n",
              "      --hover-fill-color: #174EA6;\n",
              "      --disabled-fill-color: #AAA;\n",
              "      --disabled-bg-color: #DDD;\n",
              "  }\n",
              "\n",
              "  [theme=dark] .colab-df-quickchart {\n",
              "      --bg-color: #3B4455;\n",
              "      --fill-color: #D2E3FC;\n",
              "      --hover-bg-color: #434B5C;\n",
              "      --hover-fill-color: #FFFFFF;\n",
              "      --disabled-bg-color: #3B4455;\n",
              "      --disabled-fill-color: #666;\n",
              "  }\n",
              "\n",
              "  .colab-df-quickchart {\n",
              "    background-color: var(--bg-color);\n",
              "    border: none;\n",
              "    border-radius: 50%;\n",
              "    cursor: pointer;\n",
              "    display: none;\n",
              "    fill: var(--fill-color);\n",
              "    height: 32px;\n",
              "    padding: 0;\n",
              "    width: 32px;\n",
              "  }\n",
              "\n",
              "  .colab-df-quickchart:hover {\n",
              "    background-color: var(--hover-bg-color);\n",
              "    box-shadow: 0 1px 2px rgba(60, 64, 67, 0.3), 0 1px 3px 1px rgba(60, 64, 67, 0.15);\n",
              "    fill: var(--button-hover-fill-color);\n",
              "  }\n",
              "\n",
              "  .colab-df-quickchart-complete:disabled,\n",
              "  .colab-df-quickchart-complete:disabled:hover {\n",
              "    background-color: var(--disabled-bg-color);\n",
              "    fill: var(--disabled-fill-color);\n",
              "    box-shadow: none;\n",
              "  }\n",
              "\n",
              "  .colab-df-spinner {\n",
              "    border: 2px solid var(--fill-color);\n",
              "    border-color: transparent;\n",
              "    border-bottom-color: var(--fill-color);\n",
              "    animation:\n",
              "      spin 1s steps(1) infinite;\n",
              "  }\n",
              "\n",
              "  @keyframes spin {\n",
              "    0% {\n",
              "      border-color: transparent;\n",
              "      border-bottom-color: var(--fill-color);\n",
              "      border-left-color: var(--fill-color);\n",
              "    }\n",
              "    20% {\n",
              "      border-color: transparent;\n",
              "      border-left-color: var(--fill-color);\n",
              "      border-top-color: var(--fill-color);\n",
              "    }\n",
              "    30% {\n",
              "      border-color: transparent;\n",
              "      border-left-color: var(--fill-color);\n",
              "      border-top-color: var(--fill-color);\n",
              "      border-right-color: var(--fill-color);\n",
              "    }\n",
              "    40% {\n",
              "      border-color: transparent;\n",
              "      border-right-color: var(--fill-color);\n",
              "      border-top-color: var(--fill-color);\n",
              "    }\n",
              "    60% {\n",
              "      border-color: transparent;\n",
              "      border-right-color: var(--fill-color);\n",
              "    }\n",
              "    80% {\n",
              "      border-color: transparent;\n",
              "      border-right-color: var(--fill-color);\n",
              "      border-bottom-color: var(--fill-color);\n",
              "    }\n",
              "    90% {\n",
              "      border-color: transparent;\n",
              "      border-bottom-color: var(--fill-color);\n",
              "    }\n",
              "  }\n",
              "</style>\n",
              "\n",
              "  <script>\n",
              "    async function quickchart(key) {\n",
              "      const quickchartButtonEl =\n",
              "        document.querySelector('#' + key + ' button');\n",
              "      quickchartButtonEl.disabled = true;  // To prevent multiple clicks.\n",
              "      quickchartButtonEl.classList.add('colab-df-spinner');\n",
              "      try {\n",
              "        const charts = await google.colab.kernel.invokeFunction(\n",
              "            'suggestCharts', [key], {});\n",
              "      } catch (error) {\n",
              "        console.error('Error during call to suggestCharts:', error);\n",
              "      }\n",
              "      quickchartButtonEl.classList.remove('colab-df-spinner');\n",
              "      quickchartButtonEl.classList.add('colab-df-quickchart-complete');\n",
              "    }\n",
              "    (() => {\n",
              "      let quickchartButtonEl =\n",
              "        document.querySelector('#df-dc1aec41-42de-4ac3-98d8-38297cc2ad59 button');\n",
              "      quickchartButtonEl.style.display =\n",
              "        google.colab.kernel.accessAllowed ? 'block' : 'none';\n",
              "    })();\n",
              "  </script>\n",
              "</div>\n",
              "\n",
              "    </div>\n",
              "  </div>\n"
            ],
            "application/vnd.google.colaboratory.intrinsic+json": {
              "type": "dataframe",
              "variable_name": "isolet_df"
            }
          },
          "metadata": {},
          "execution_count": 6
        }
      ]
    },
    {
      "cell_type": "code",
      "source": [
        "X = isolet_df.drop(\"targets\", axis=1)\n",
        "y = isolet_df[\"targets\"]\n",
        "# print(X.head())\n",
        "# print(y.shape)"
      ],
      "metadata": {
        "id": "iU5jw9Tzjv-h"
      },
      "execution_count": null,
      "outputs": []
    },
    {
      "cell_type": "markdown",
      "source": [
        "# *Steps for QPFS*"
      ],
      "metadata": {
        "id": "NEJPCmxHxAQU"
      }
    },
    {
      "cell_type": "markdown",
      "source": [
        "## 1. Compute feature relevance (F) using Mutual information and Feature dependecy Q using pearson coefficient"
      ],
      "metadata": {
        "id": "Hc5bxvP2RodJ"
      }
    },
    {
      "cell_type": "markdown",
      "source": [
        "Lets calculate the mutual information(MI) between each feature and the class labels."
      ],
      "metadata": {
        "id": "OUPKaXo9VyGl"
      }
    },
    {
      "cell_type": "code",
      "source": [
        "F=mutual_info_classif(X,y)\n",
        "F= F/np.max(F) # Normalize the mutual information to be in the range [0,1]\n",
        "# print(F.shape)"
      ],
      "metadata": {
        "id": "vjrw5N5xVmmh"
      },
      "execution_count": null,
      "outputs": []
    },
    {
      "cell_type": "code",
      "source": [
        "# F.shape"
      ],
      "metadata": {
        "colab": {
          "base_uri": "https://localhost:8080/"
        },
        "id": "XcY5l78pkqza",
        "outputId": "dfecb943-6795-416d-ace0-f66e31a04148"
      },
      "execution_count": null,
      "outputs": [
        {
          "output_type": "execute_result",
          "data": {
            "text/plain": [
              "(617,)"
            ]
          },
          "metadata": {},
          "execution_count": 16
        }
      ]
    },
    {
      "cell_type": "markdown",
      "source": [
        "print the feature relevance scores, that is  how well each feature predicts the target class. Higher F values mean more relevant features."
      ],
      "metadata": {
        "id": "OM2yzficXbh5"
      }
    },
    {
      "cell_type": "code",
      "source": [
        "## print the feature relevance scores\n",
        "# for i in range(len(isolet_df.targets)):\n",
        "#     print(f\"{isolet_df.columns[i]}: {F[i]}\")"
      ],
      "metadata": {
        "id": "LNnc5Vb3W23Y"
      },
      "execution_count": null,
      "outputs": []
    },
    {
      "cell_type": "markdown",
      "source": [
        " Computer the feature similarity/ redundancy Using Pearson Correlation"
      ],
      "metadata": {
        "id": "D4ArAm3lR2zo"
      }
    },
    {
      "cell_type": "markdown",
      "source": [
        "Lets create a 617*617 similarity matrix Q using Pearson Correlation"
      ],
      "metadata": {
        "id": "cZ5u8ElsXsqY"
      }
    },
    {
      "cell_type": "code",
      "source": [
        "from scipy.stats import pearsonr"
      ],
      "metadata": {
        "id": "DWcW4c9zY4Uo"
      },
      "execution_count": null,
      "outputs": []
    },
    {
      "cell_type": "code",
      "source": [
        "num_featues= X.shape[1]\n",
        "# print(num_featues)\n",
        "Q= np.zeros((num_featues,num_featues))\n",
        "# print(Q)\n",
        "\n",
        "for i in range(num_featues):\n",
        "  for j in range(i,num_featues):\n",
        "    Q[i, j], other_x = pearsonr(X.iloc[:, i], X.iloc[:, j])\n",
        "    Q[j,i]=Q[i,j]\n",
        "    # print(iris.feature_names[i],iris.feature_names[j],Q[i,j])\n",
        "    # print(\"\\n\")\n",
        "\n",
        "# Take the absolute value to measure similarity\n",
        "Q= np.abs(Q)"
      ],
      "metadata": {
        "id": "6tNbzvSeX6gU"
      },
      "execution_count": null,
      "outputs": []
    },
    {
      "cell_type": "code",
      "source": [
        "print(\"Feature Similarity Matrix(Q):\")\n",
        "print(Q)"
      ],
      "metadata": {
        "colab": {
          "base_uri": "https://localhost:8080/"
        },
        "id": "qaKsJ1HCakB-",
        "outputId": "13b06686-4a4e-4857-da13-8d2d66dd5a78"
      },
      "execution_count": null,
      "outputs": [
        {
          "output_type": "stream",
          "name": "stdout",
          "text": [
            "Feature Similarity Matrix(Q):\n",
            "[[1.         0.73660247 0.61449527 ... 0.14080178 0.14386685 0.14548053]\n",
            " [0.73660247 1.         0.78828014 ... 0.16577095 0.17140651 0.17219252]\n",
            " [0.61449527 0.78828014 1.         ... 0.1689987  0.17596738 0.18633186]\n",
            " ...\n",
            " [0.14080178 0.16577095 0.1689987  ... 1.         0.79247495 0.66208606]\n",
            " [0.14386685 0.17140651 0.17596738 ... 0.79247495 1.         0.81463543]\n",
            " [0.14548053 0.17219252 0.18633186 ... 0.66208606 0.81463543 1.        ]]\n"
          ]
        }
      ]
    },
    {
      "cell_type": "markdown",
      "source": [
        "Measure how redundant features/columns are to each other. Higher Qij values mean more redundancy"
      ],
      "metadata": {
        "id": "vxsFaHGma_gC"
      }
    },
    {
      "cell_type": "markdown",
      "source": [
        "## 2. Choosing r rows using uniform sampling with-out replacement to find A and B which charcterize the enire Q using Nystrom approximation."
      ],
      "metadata": {
        "id": "h_5C8HdXCih6"
      }
    },
    {
      "cell_type": "markdown",
      "source": [
        "$$\n",
        "Q = \\begin{bmatrix} A & B \\\\ B^T & E \\end{bmatrix}\n",
        "$$\n",
        "\n",
        "$$\n",
        "where:\n",
        " A \\in \\mathbb{R}^{k \\times k},\n",
        "B \\in \\mathbb{R}^{k \\times (M-k)},\n",
        "E \\in \\mathbb{R}^{(M-k) \\times (M-k)}\n",
        "$$\n"
      ],
      "metadata": {
        "id": "XgqgOJtmDYH2"
      }
    },
    {
      "cell_type": "markdown",
      "source": [
        "**Uniform random sampling is used to find A and B**"
      ],
      "metadata": {
        "id": "cY2ptwx9Ed6D"
      }
    },
    {
      "cell_type": "code",
      "source": [
        "def get_AB(Q,r):\n",
        "  M = Q.shape[0]  # Total number of features\n",
        "\n",
        "  # Randomly select r unique row indices\n",
        "  selected_rows = np.random.choice(M, r, replace=False)\n",
        "  selected_rows.sort()\n",
        "\n",
        "  # Extract A (r x r submatrix)\n",
        "  A = Q[np.ix_(selected_rows, selected_rows)]\n",
        "  remaining_cols = np.setdiff1d(np.arange(M), selected_rows)  # Non-selected columns\n",
        "  B = Q[np.ix_(selected_rows, remaining_cols)]\n",
        "\n",
        "  return A,B\n"
      ],
      "metadata": {
        "id": "jKevSsTTEjdV"
      },
      "execution_count": null,
      "outputs": []
    },
    {
      "cell_type": "code",
      "source": [
        "# what should be the size of r?;\n",
        "r= 25\n",
        "A,B= get_AB(Q,r)\n",
        "A.shape"
      ],
      "metadata": {
        "id": "0FE5KdDMKFed",
        "colab": {
          "base_uri": "https://localhost:8080/"
        },
        "outputId": "dee1a4f0-f776-4584-a6af-6d60ef9ab2f0"
      },
      "execution_count": null,
      "outputs": [
        {
          "output_type": "execute_result",
          "data": {
            "text/plain": [
              "(25, 25)"
            ]
          },
          "metadata": {},
          "execution_count": 30
        }
      ]
    },
    {
      "cell_type": "markdown",
      "source": [
        "## 3. Set the value of the α parameter"
      ],
      "metadata": {
        "id": "ALgZoJ6Bhhaf"
      }
    },
    {
      "cell_type": "markdown",
      "source": [
        "## 4. Apply the Nystr ̈om method knowing [A B]. Obtain an approximation of the eigenvalues and eigenvectors of Q."
      ],
      "metadata": {
        "id": "yr5FksXkhmlm"
      }
    },
    {
      "cell_type": "markdown",
      "source": [
        "### 4.1 Find S"
      ],
      "metadata": {
        "id": "heZ1HxCOh9Bs"
      }
    },
    {
      "cell_type": "markdown",
      "source": [
        "$$\n",
        "S = A + A^{-1/2} B B^T A^{-1/2}\n",
        "$$"
      ],
      "metadata": {
        "id": "Eo0HVTNalUt_"
      }
    },
    {
      "cell_type": "code",
      "source": [
        "def diagonalize(matrix):\n",
        "    eigenvalues, eigenvectors = np.linalg.eig(matrix)\n",
        "    Å= np.diag(eigenvalues)\n",
        "    return Å, eigenvectors"
      ],
      "metadata": {
        "id": "j0H-j1j7iiBZ"
      },
      "execution_count": null,
      "outputs": []
    },
    {
      "cell_type": "code",
      "source": [
        "def get_inverse_square_root(matrix):\n",
        "    Å,eigenvectors = diagonalize(matrix)\n",
        "    sqrt_Å= np.sqrt(Å)\n",
        "    inverted_sqrt_Å = np.linalg.inv(sqrt_Å)\n",
        "    inverted_root_matrix= eigenvectors @ inverted_sqrt_Å @ eigenvectors.T\n",
        "    return inverted_root_matrix"
      ],
      "metadata": {
        "id": "Bp8IEU4NjG3Z"
      },
      "execution_count": null,
      "outputs": []
    },
    {
      "cell_type": "code",
      "source": [
        "inverted_sqrt_A = get_inverse_square_root(A)\n",
        "S = A +inverted_sqrt_A @ B @ B.T @ inverted_sqrt_A\n",
        "print(S)"
      ],
      "metadata": {
        "colab": {
          "base_uri": "https://localhost:8080/"
        },
        "id": "47tmP67KlZeS",
        "outputId": "e1b164b3-8cc8-499f-f531-db861ee74716"
      },
      "execution_count": null,
      "outputs": [
        {
          "output_type": "stream",
          "name": "stdout",
          "text": [
            "[[ 6.94891497e+00  5.89511209e-01  4.44970778e-01  2.10035212e+00\n",
            "   3.56826973e+00  1.83174055e+00  6.63022274e-01  3.55958205e+00\n",
            "   2.05684653e+00  3.11636470e+00  9.31994002e-01  1.08022932e+00\n",
            "   7.58310578e-01  7.29477084e-01  8.35493055e-01  4.92502201e-01\n",
            "   1.43890026e+00  3.99009645e-01  1.88158254e+00  2.41483778e-01\n",
            "   4.11031406e+00  5.08063606e+00  1.18209955e+00  1.35309600e+00\n",
            "   5.62079174e-01]\n",
            " [ 5.89511209e-01  1.50920856e+01  9.44745913e+00  5.77053763e+00\n",
            "   1.90821430e+00  7.17607737e+00  1.04018462e+01  4.13766901e+00\n",
            "   4.09058451e+00  2.89495728e+00  1.07555295e+00  3.36244604e+00\n",
            "   7.42165631e+00  1.45819270e+00  2.39904003e+00 -1.19225700e-02\n",
            "   6.71466524e-01  2.80792537e-01  5.78828219e+00  8.93205412e-01\n",
            "   5.41438783e+00  6.85293900e+00  2.01239812e+00  8.63956283e-01\n",
            "   1.61085896e+00]\n",
            " [ 4.44970778e-01  9.44745913e+00  1.25872878e+01  5.93863124e+00\n",
            "   1.83269033e+00  7.80893277e+00  8.31972817e+00  4.27606137e+00\n",
            "   4.79313765e+00  2.03273655e+00  5.28973936e-01  1.97374918e+00\n",
            "   8.87070614e+00  1.00569382e+00  1.91972105e+00  1.56034401e-01\n",
            "   9.06939127e-01  6.44722151e-03  4.40937206e+00  1.00875850e+00\n",
            "   5.62553191e+00  7.43616475e+00  6.85869258e-01  1.03040499e+00\n",
            "   1.89776840e+00]\n",
            " [ 2.10035212e+00  5.77053763e+00  5.93863124e+00  1.77955543e+01\n",
            "   2.16920091e+00  1.63402971e+01  6.95407235e+00  1.31603460e+01\n",
            "   5.42403182e+00  2.47573427e+00  1.95165221e+00  2.96170976e+00\n",
            "   4.04127500e+00  4.09429596e+00  3.04399904e+00  7.62578066e-01\n",
            "   2.99416806e+00  1.58681319e+00  1.15139289e+01  6.99666527e-01\n",
            "   1.78039602e+01  1.24703436e+01  2.03082907e+00  2.84919414e+00\n",
            "   1.16252854e+00]\n",
            " [ 3.56826973e+00  1.90821430e+00  1.83269033e+00  2.16920091e+00\n",
            "   1.01832319e+01  3.51983086e+00  3.17960379e+00  2.92849858e+00\n",
            "   5.13632862e+00  1.71104854e+00  1.15634404e+00  2.28788821e-01\n",
            "   1.59109763e+00  7.39444354e-01  1.07560354e+00  1.52333712e+00\n",
            "   1.40424887e+00  1.87650983e+00  1.51394998e+00  1.58784591e+00\n",
            "   3.82636604e+00  4.13895010e+00  1.00168932e+00  3.44417483e+00\n",
            "   1.34120698e+00]\n",
            " [ 1.83174055e+00  7.17607737e+00  7.80893277e+00  1.63402971e+01\n",
            "   3.51983086e+00  2.11474207e+01  9.66672297e+00  1.23974406e+01\n",
            "   7.68129527e+00  3.12880965e+00  9.11644783e-01  2.46941682e+00\n",
            "   4.48943430e+00  3.81821403e+00  3.60957987e+00  1.26981217e+00\n",
            "   3.03060874e+00  2.54940743e+00  1.30268867e+01  1.22917008e+00\n",
            "   1.84781770e+01  1.08345972e+01  1.38348837e+00  3.75655393e+00\n",
            "   1.84081631e+00]\n",
            " [ 6.63022274e-01  1.04018462e+01  8.31972817e+00  6.95407235e+00\n",
            "   3.17960379e+00  9.66672297e+00  1.85538003e+01  4.43275643e+00\n",
            "   9.77109565e+00  1.93031791e+00 -2.18178019e-01  1.55987718e+00\n",
            "   4.86311863e+00  1.61441480e+00  3.29544063e+00  7.28400105e-02\n",
            "   1.48975972e+00  9.21494487e-01  7.13207880e+00  2.00395057e+00\n",
            "   4.26166138e+00  8.95547570e+00  9.43323767e-01  2.45746818e+00\n",
            "   2.54151737e+00]\n",
            " [ 3.55958205e+00  4.13766901e+00  4.27606137e+00  1.31603460e+01\n",
            "   2.92849858e+00  1.23974406e+01  4.43275643e+00  2.02356810e+01\n",
            "   7.12530773e+00  2.60469057e+00  3.51788665e+00  4.00027972e+00\n",
            "   3.44408281e+00  2.49755502e+00  3.78978363e+00  1.79075995e+00\n",
            "   3.38159860e+00  4.48196268e+00  1.00339551e+01  1.81951856e+00\n",
            "   1.52305758e+01  1.45016332e+01  2.58953539e+00  5.67070349e+00\n",
            "   2.24795524e+00]\n",
            " [ 2.05684653e+00  4.09058451e+00  4.79313765e+00  5.42403182e+00\n",
            "   5.13632862e+00  7.68129527e+00  9.77109565e+00  7.12530773e+00\n",
            "   1.84829032e+01  8.89871667e-01  1.65479894e+00  5.82125838e+00\n",
            "   2.36054596e+00  1.20890485e+00  2.52635198e+00  5.17900028e-01\n",
            "   2.16000239e+00  1.91880153e+00  4.50037161e+00  2.98866953e+00\n",
            "   4.84806930e+00  8.64092960e+00  1.49453674e+00  3.50928745e+00\n",
            "   2.37855705e+00]\n",
            " [ 3.11636470e+00  2.89495728e+00  2.03273655e+00  2.47573427e+00\n",
            "   1.71104854e+00  3.12880965e+00  1.93031791e+00  2.60469057e+00\n",
            "   8.89871667e-01  5.12986194e+00  8.84107562e-01  1.86902782e+00\n",
            "   2.75794516e+00  9.59275043e-01  1.24177589e+00  5.07659309e-01\n",
            "   1.16016845e+00  1.18861352e+00  3.50477187e+00  5.28870535e-01\n",
            "   4.55422583e+00  2.95115900e+00  1.34911146e+00  1.45557079e+00\n",
            "   6.25686721e-01]\n",
            " [ 9.31994002e-01  1.07555295e+00  5.28973936e-01  1.95165221e+00\n",
            "   1.15634404e+00  9.11644783e-01 -2.18178019e-01  3.51788665e+00\n",
            "   1.65479894e+00  8.84107562e-01  1.02984725e+01  6.34256151e+00\n",
            "   1.05863008e+00  1.08230307e+00  8.72973794e-01  9.46881696e-01\n",
            "   1.55426073e+00  2.79993387e+00  2.30424814e+00  1.24243408e+00\n",
            "   3.78631222e+00  6.84829804e+00  1.22654320e+00  2.29266807e+00\n",
            "   6.22502847e-01]\n",
            " [ 1.08022932e+00  3.36244604e+00  1.97374918e+00  2.96170976e+00\n",
            "   2.28788821e-01  2.46941682e+00  1.55987718e+00  4.00027972e+00\n",
            "   5.82125838e+00  1.86902782e+00  6.34256151e+00  1.36725425e+01\n",
            "   1.96554824e+00  1.50349915e+00  1.72778801e+00  2.79232840e-01\n",
            "   1.52845625e+00  2.60671221e+00  3.54592619e+00  1.75665199e+00\n",
            "   4.22292283e+00  5.81831645e+00  2.38291569e+00  2.33824870e+00\n",
            "   1.06386247e+00]\n",
            " [ 7.58310578e-01  7.42165631e+00  8.87070614e+00  4.04127500e+00\n",
            "   1.59109763e+00  4.48943430e+00  4.86311863e+00  3.44408281e+00\n",
            "   2.36054596e+00  2.75794516e+00  1.05863008e+00  1.96554824e+00\n",
            "   1.11683475e+01  1.01874175e+00  1.67662941e+00  1.36929733e-01\n",
            "   6.26576373e-01  1.60633515e-01  3.54809564e+00  6.43037571e-01\n",
            "   3.92568008e+00  5.64199685e+00  1.69795356e+00  8.21931597e-01\n",
            "   1.71039597e+00]\n",
            " [ 7.29477084e-01  1.45819270e+00  1.00569382e+00  4.09429596e+00\n",
            "   7.39444354e-01  3.81821403e+00  1.61441480e+00  2.49755502e+00\n",
            "   1.20890485e+00  9.59275043e-01  1.08230307e+00  1.50349915e+00\n",
            "   1.01874175e+00  6.64757324e+00  1.40167066e+00  3.54673474e-01\n",
            "   1.37346550e+00  1.22290410e+00  5.69062804e+00  8.08955094e-01\n",
            "   5.00620105e+00  3.72037231e+00  9.10720606e-01  1.60056113e+00\n",
            "   4.22236931e-01]\n",
            " [ 8.35493055e-01  2.39904003e+00  1.91972105e+00  3.04399904e+00\n",
            "   1.07560354e+00  3.60957987e+00  3.29544063e+00  3.78978363e+00\n",
            "   2.52635198e+00  1.24177589e+00  8.72973794e-01  1.72778801e+00\n",
            "   1.67662941e+00  1.40167066e+00  5.07396257e+00  4.26860521e-01\n",
            "   1.06652191e+00  1.36226561e+00  3.98735234e+00  9.35945434e-01\n",
            "   1.67565407e+00  3.63203456e+00  3.29204341e+00  1.65193894e+00\n",
            "   1.07324788e+00]\n",
            " [ 4.92502201e-01 -1.19225700e-02  1.56034401e-01  7.62578066e-01\n",
            "   1.52333712e+00  1.26981217e+00  7.28400105e-02  1.79075995e+00\n",
            "   5.17900028e-01  5.07659309e-01  9.46881696e-01  2.79232840e-01\n",
            "   1.36929733e-01  3.54673474e-01  4.26860521e-01  7.14998094e+00\n",
            "   2.41606059e+00  3.55532793e+00  4.58257324e-01  1.34483804e+00\n",
            "   1.62645861e+00  1.16914553e+00  3.88981055e-01  1.98806697e+00\n",
            "   3.76157935e-01]\n",
            " [ 1.43890026e+00  6.71466524e-01  9.06939127e-01  2.99416806e+00\n",
            "   1.40424887e+00  3.03060874e+00  1.48975972e+00  3.38159860e+00\n",
            "   2.16000239e+00  1.16016845e+00  1.55426073e+00  1.52845625e+00\n",
            "   6.26576373e-01  1.37346550e+00  1.06652191e+00  2.41606059e+00\n",
            "   6.52220313e+00  2.30848677e+00  3.05342622e+00  8.44949170e-01\n",
            "   4.36475167e+00  3.44556867e+00  7.78386399e-01  2.67341011e+00\n",
            "   5.68957934e-01]\n",
            " [ 3.99009645e-01  2.80792537e-01  6.44722151e-03  1.58681319e+00\n",
            "   1.87650983e+00  2.54940743e+00  9.21494487e-01  4.48196268e+00\n",
            "   1.91880153e+00  1.18861352e+00  2.79993387e+00  2.60671221e+00\n",
            "   1.60633515e-01  1.22290410e+00  1.36226561e+00  3.55532793e+00\n",
            "   2.30848677e+00  1.12477500e+01  4.21235322e+00  4.09965225e+00\n",
            "   4.05931936e+00  2.32580012e+00  4.71362245e-01  6.59441931e+00\n",
            "   2.08740397e+00]\n",
            " [ 1.88158254e+00  5.78828219e+00  4.40937206e+00  1.15139289e+01\n",
            "   1.51394998e+00  1.30268867e+01  7.13207880e+00  1.00339551e+01\n",
            "   4.50037161e+00  3.50477187e+00  2.30424814e+00  3.54592619e+00\n",
            "   3.54809564e+00  5.69062804e+00  3.98735234e+00  4.58257324e-01\n",
            "   3.05342622e+00  4.21235322e+00  2.90585880e+01  2.04627418e+00\n",
            "   1.41083650e+01  8.20782573e+00  1.96647221e+00  4.05592180e+00\n",
            "   1.30319963e+00]\n",
            " [ 2.41483778e-01  8.93205412e-01  1.00875850e+00  6.99666527e-01\n",
            "   1.58784591e+00  1.22917008e+00  2.00395057e+00  1.81951856e+00\n",
            "   2.98866953e+00  5.28870535e-01  1.24243408e+00  1.75665199e+00\n",
            "   6.43037571e-01  8.08955094e-01  9.35945434e-01  1.34483804e+00\n",
            "   8.44949170e-01  4.09965225e+00  2.04627418e+00  3.80282628e+00\n",
            "   1.35383455e+00  1.91537531e+00  4.22451515e-01  3.31996870e+00\n",
            "   1.45486783e+00]\n",
            " [ 4.11031406e+00  5.41438783e+00  5.62553191e+00  1.78039602e+01\n",
            "   3.82636604e+00  1.84781770e+01  4.26166138e+00  1.52305758e+01\n",
            "   4.84806930e+00  4.55422583e+00  3.78631222e+00  4.22292283e+00\n",
            "   3.92568008e+00  5.00620105e+00  1.67565407e+00  1.62645861e+00\n",
            "   4.36475167e+00  4.05931936e+00  1.41083650e+01  1.35383455e+00\n",
            "   3.36830295e+01  1.52254001e+01  1.55599782e+00  4.63138426e+00\n",
            "   1.41522455e+00]\n",
            " [ 5.08063606e+00  6.85293900e+00  7.43616475e+00  1.24703436e+01\n",
            "   4.13895010e+00  1.08345972e+01  8.95547570e+00  1.45016332e+01\n",
            "   8.64092960e+00  2.95115900e+00  6.84829804e+00  5.81831645e+00\n",
            "   5.64199685e+00  3.72037231e+00  3.63203456e+00  1.16914553e+00\n",
            "   3.44556867e+00  2.32580012e+00  8.20782573e+00  1.91537531e+00\n",
            "   1.52254001e+01  2.99906978e+01  1.76480321e+00  4.04644203e+00\n",
            "   2.85751047e+00]\n",
            " [ 1.18209955e+00  2.01239812e+00  6.85869258e-01  2.03082907e+00\n",
            "   1.00168932e+00  1.38348837e+00  9.43323767e-01  2.58953539e+00\n",
            "   1.49453674e+00  1.34911146e+00  1.22654320e+00  2.38291569e+00\n",
            "   1.69795356e+00  9.10720606e-01  3.29204341e+00  3.88981055e-01\n",
            "   7.78386399e-01  4.71362245e-01  1.96647221e+00  4.22451515e-01\n",
            "   1.55599782e+00  1.76480321e+00  6.04238156e+00  7.97525428e-01\n",
            "   3.57093442e-01]\n",
            " [ 1.35309600e+00  8.63956283e-01  1.03040499e+00  2.84919414e+00\n",
            "   3.44417483e+00  3.75655393e+00  2.45746818e+00  5.67070349e+00\n",
            "   3.50928745e+00  1.45557079e+00  2.29266807e+00  2.33824870e+00\n",
            "   8.21931597e-01  1.60056113e+00  1.65193894e+00  1.98806697e+00\n",
            "   2.67341011e+00  6.59441931e+00  4.05592180e+00  3.31996870e+00\n",
            "   4.63138426e+00  4.04644203e+00  7.97525428e-01  8.04630474e+00\n",
            "   1.85581685e+00]\n",
            " [ 5.62079174e-01  1.61085896e+00  1.89776840e+00  1.16252854e+00\n",
            "   1.34120698e+00  1.84081631e+00  2.54151737e+00  2.24795524e+00\n",
            "   2.37855705e+00  6.25686721e-01  6.22502847e-01  1.06386247e+00\n",
            "   1.71039597e+00  4.22236931e-01  1.07324788e+00  3.76157935e-01\n",
            "   5.68957934e-01  2.08740397e+00  1.30319963e+00  1.45486783e+00\n",
            "   1.41522455e+00  2.85751047e+00  3.57093442e-01  1.85581685e+00\n",
            "   4.46735606e+00]]\n"
          ]
        }
      ]
    },
    {
      "cell_type": "markdown",
      "source": [
        "### 4.2 Represent S as a diagonalization"
      ],
      "metadata": {
        "id": "tf1c7poSiBMW"
      }
    },
    {
      "cell_type": "code",
      "source": [
        "sigma, R = diagonalize(S)\n",
        "# print(sigma) ## which is equal to lamda in the digonalization of Q below\n",
        "# print(R)"
      ],
      "metadata": {
        "colab": {
          "base_uri": "https://localhost:8080/",
          "height": 176
        },
        "id": "tBxSbAhOnZpO",
        "outputId": "4f1b35b0-a251-438d-bee8-bfe62f6b5b68"
      },
      "execution_count": null,
      "outputs": [
        {
          "output_type": "error",
          "ename": "NameError",
          "evalue": "name 'diagonalize' is not defined",
          "traceback": [
            "\u001b[0;31m---------------------------------------------------------------------------\u001b[0m",
            "\u001b[0;31mNameError\u001b[0m                                 Traceback (most recent call last)",
            "\u001b[0;32m<ipython-input-1-08c62f89102c>\u001b[0m in \u001b[0;36m<cell line: 0>\u001b[0;34m()\u001b[0m\n\u001b[0;32m----> 1\u001b[0;31m \u001b[0msigma\u001b[0m\u001b[0;34m,\u001b[0m \u001b[0mR\u001b[0m \u001b[0;34m=\u001b[0m \u001b[0mdiagonalize\u001b[0m\u001b[0;34m(\u001b[0m\u001b[0mS\u001b[0m\u001b[0;34m)\u001b[0m\u001b[0;34m\u001b[0m\u001b[0;34m\u001b[0m\u001b[0m\n\u001b[0m\u001b[1;32m      2\u001b[0m \u001b[0;31m# print(sigma) ## which is equal to lamda in the digonalization of Q below\u001b[0m\u001b[0;34m\u001b[0m\u001b[0;34m\u001b[0m\u001b[0m\n\u001b[1;32m      3\u001b[0m \u001b[0;31m# print(R)\u001b[0m\u001b[0;34m\u001b[0m\u001b[0;34m\u001b[0m\u001b[0m\n",
            "\u001b[0;31mNameError\u001b[0m: name 'diagonalize' is not defined"
          ]
        }
      ]
    },
    {
      "cell_type": "markdown",
      "source": [
        "### 4.3 Obtain an approximation of the eigenvalues and eigenvectors of Q."
      ],
      "metadata": {
        "id": "bUsGzMt_niM5"
      }
    },
    {
      "cell_type": "markdown",
      "source": [
        "$$\n",
        "\\hat{Q} = \\hat{U} \\hat{\\Lambda} \\hat{U} ^T\n",
        "$$\n",
        "$$\n",
        "where,\n",
        "\\hat{U} =\n",
        "\\begin{bmatrix}\n",
        "A \\\\\n",
        "B^T\n",
        "\\end{bmatrix}\n",
        "A^{-1/2} R \\hat{\\Sigma}^{-1/2}\n",
        "$$"
      ],
      "metadata": {
        "id": "Snjg-rAEnpBg"
      }
    },
    {
      "cell_type": "code",
      "source": [
        "stacked_AB= np.vstack((A,B.T))\n",
        "# print(stacked_AB)\n",
        "inverted_sqrt_sigma = get_inverse_square_root(sigma)\n",
        "# print(inverted_sqrt_sigma)\n",
        "\n",
        "U = stacked_AB @ inverted_sqrt_A @ R @ inverted_sqrt_sigma\n",
        "\n",
        "print(\"U\",U)"
      ],
      "metadata": {
        "colab": {
          "base_uri": "https://localhost:8080/"
        },
        "id": "BHtWyHV0ooQx",
        "outputId": "57f55999-6960-49f8-c33a-2c962e9cfd20"
      },
      "execution_count": null,
      "outputs": [
        {
          "output_type": "stream",
          "name": "stdout",
          "text": [
            "U [[-0.01743964 -0.00098487  0.0244196  ... -0.07018133  0.0794971\n",
            "   0.00129219]\n",
            " [-0.04890542  0.09574854 -0.03001222 ... -0.14985493 -0.05100554\n",
            "  -0.00462758]\n",
            " [-0.04657678  0.08976559 -0.03492283 ... -0.09956883 -0.0460545\n",
            "  -0.03763582]\n",
            " ...\n",
            " [-0.01999306 -0.02163208  0.04474523 ... -0.03295156 -0.03441482\n",
            "   0.08547312]\n",
            " [-0.02113532 -0.0229135   0.05019013 ... -0.02600687 -0.02796659\n",
            "   0.06894711]\n",
            " [-0.02283906 -0.02276184  0.05175999 ... -0.00786771  0.00357416\n",
            "   0.03915723]]\n"
          ]
        }
      ]
    },
    {
      "cell_type": "markdown",
      "source": [
        "To approximate Q we have found U.But we also need Λ.\n",
        " the Λ is approximated to the Σ"
      ],
      "metadata": {
        "id": "LIZpXaPevA0t"
      }
    },
    {
      "cell_type": "code",
      "source": [
        "Lambda_hat = sigma\n",
        "Lambda_hat.shape\n"
      ],
      "metadata": {
        "colab": {
          "base_uri": "https://localhost:8080/"
        },
        "id": "vIr-h1LIvcmN",
        "outputId": "aaa501b0-78cd-43b1-805f-8a7a7ece7707"
      },
      "execution_count": null,
      "outputs": [
        {
          "output_type": "execute_result",
          "data": {
            "text/plain": [
              "(25, 25)"
            ]
          },
          "metadata": {},
          "execution_count": 35
        }
      ]
    },
    {
      "cell_type": "markdown",
      "source": [
        "## 5. Formulate the quadratic programming problem in the lower dimensional space"
      ],
      "metadata": {
        "id": "SWjrZcMBvlz2"
      }
    },
    {
      "cell_type": "markdown",
      "source": [
        "## 6. Solve the quadratic programming problem in a reduced subspace to obtain the solution vector Y"
      ],
      "metadata": {
        "id": "mogWbfhVvqz8"
      }
    },
    {
      "cell_type": "markdown",
      "source": [
        "After approximating Q, we substitute it into the QPFS optimization equation:\n",
        " $$ \\min_x \\frac{1}{2} (1 - \\alpha) x^T Q x - \\alpha F^T x $$\n",
        "with constraints:\n",
        "$$ x \\geq 0 $$\n",
        "$$ \\sum x =1 $$\n",
        "\n",
        "Since Q is decomposed as $$ \\hat{Q} = \\hat{U} \\hat{\\Lambda} \\hat{U} ^T $$\n",
        "\n",
        "We rewrite the problem in a ***reduced space*** using a new variable y:\n",
        "$$\n",
        "y = \\hat{U} ^T x\n",
        "$$\n",
        "\n",
        "This transorms the optimization problem to:\n",
        "\n",
        "$$ \\min_y \\frac{1}{2} (1 - \\alpha) y^T \\Lambda y - \\alpha F^T \\hat{U} y $$\n",
        "with constraints\n",
        "$$ y \\geq 0 (non-negativity )$$\n",
        "$$ \\sum y =1 (normalization ) $$\n",
        "\n",
        "\n",
        "\n",
        "which is $\\textit{simpler and faster}$ to solve because $\\Lambda$ is diagonal."
      ],
      "metadata": {
        "id": "zrS_bNu74Dm4"
      }
    },
    {
      "cell_type": "code",
      "source": [
        "# Lets find alpha (trade-off between relevance and redundancy)\n",
        "AB= np.concatenate((A,B),axis=1)\n",
        "# print(AB)\n",
        "q= np.mean(AB) # found the mean of the feature redundancy using approximation of A and B\n",
        "f= np.mean(F) # F has been calculated on the first step: the feature relevance to the class label.\n",
        "\n",
        "alpha = q/ (q+f)\n",
        "\n",
        "print(alpha)\n"
      ],
      "metadata": {
        "colab": {
          "base_uri": "https://localhost:8080/"
        },
        "id": "CeVq1NQ57vlA",
        "outputId": "d3bbae64-7421-4c4e-d1eb-93c8a6d81610"
      },
      "execution_count": null,
      "outputs": [
        {
          "output_type": "stream",
          "name": "stdout",
          "text": [
            "0.3182184606522539\n"
          ]
        }
      ]
    },
    {
      "cell_type": "code",
      "source": [],
      "metadata": {
        "id": "OMGsGkCMMOZ9"
      },
      "execution_count": null,
      "outputs": []
    },
    {
      "cell_type": "markdown",
      "source": [
        "#### defining a solver function for Y"
      ],
      "metadata": {
        "id": "61ZRHamzMk6m"
      }
    },
    {
      "cell_type": "code",
      "source": [
        "from cvxopt import matrix, solvers\n",
        "def solve_reduced_qp(Lambda_hat, U_hat, F, alpha):\n",
        "\n",
        "  \"\"\"Solves the reduced-space QP problem for y using qpsolvers.\n",
        "      Parameters:\n",
        "        Lambda_hat (numpy.ndarray): Diagonal matrix of eigenvalues (k x k).\n",
        "        U_hat (numpy.ndarray): Matrix of eigenvectors (M x k).\n",
        "        F (numpy.ndarray): Feature relevance vector (M,).\n",
        "        alpha (float): Trade-off parameter between redundancy and relevance.\n",
        "    Returns:\n",
        "      y (numpy.ndarray): Solution vector in reduced space.\n",
        "  \"\"\"\n",
        "  k = Lambda_hat.shape[0]  # Reduced dimensionality\n",
        "\n",
        "  # Define QP terms\n",
        "  P = matrix((1 - alpha) * Lambda_hat)  # Quadratic term\n",
        "  # print(P)\n",
        "  q = matrix(-alpha * (F.T @ U_hat))  # Linear term\n",
        "\n",
        "  # Constraints\n",
        "  G = matrix(-np.eye(k))  # Non-negativity constraint (y >= 0)\n",
        "  h = matrix(np.zeros(k))\n",
        "\n",
        "  A = matrix(np.ones((1, k)))  # Sum constraint (sum(y) = 1)\n",
        "  b = matrix(1.0)\n",
        "\n",
        "  # Solve QP problem\n",
        "  solvers.options[\"show_progress\"]=True\n",
        "  sol = solvers.qp(P, q, G, h, A, b)\n",
        "  # print(sol)\n",
        "  y = np.array(sol['x']).flatten()  # Extract solution vector\n",
        "\n",
        "  return y\n",
        "\n",
        "\n",
        "\n"
      ],
      "metadata": {
        "id": "T2IF-bnhGfyN"
      },
      "execution_count": null,
      "outputs": []
    },
    {
      "cell_type": "markdown",
      "source": [
        "#### solving for y"
      ],
      "metadata": {
        "id": "Pm85_4InOfra"
      }
    },
    {
      "cell_type": "code",
      "source": [
        "y_optimal = solve_reduced_qp(Lambda_hat, U, F, alpha)\n",
        "print(y_optimal)"
      ],
      "metadata": {
        "id": "Ru20hzTlMv37",
        "outputId": "27235d24-496d-4ba6-f248-8c15d11d9b02",
        "colab": {
          "base_uri": "https://localhost:8080/"
        }
      },
      "execution_count": null,
      "outputs": [
        {
          "output_type": "stream",
          "name": "stdout",
          "text": [
            "     pcost       dcost       gap    pres   dres\n",
            " 0: -9.5915e-02 -1.1524e+00  3e+01  5e+00  2e+00\n",
            " 1: -7.7066e-02 -1.0462e+00  2e+00  2e-01  7e-02\n",
            " 2: -1.3538e-02 -3.8741e-01  4e-01  6e-16  4e-16\n",
            " 3: -4.3092e-02 -1.1757e-01  7e-02  3e-17  2e-16\n",
            " 4: -5.7770e-02 -6.4923e-02  7e-03  5e-17  5e-17\n",
            " 5: -6.0169e-02 -6.0571e-02  4e-04  6e-17  7e-17\n",
            " 6: -6.0404e-02 -6.0426e-02  2e-05  5e-17  2e-16\n",
            " 7: -6.0417e-02 -6.0418e-02  1e-06  5e-17  2e-16\n",
            " 8: -6.0418e-02 -6.0418e-02  5e-08  5e-17  2e-16\n",
            "Optimal solution found.\n",
            "[3.50529048e-11 2.43335936e-02 4.71024068e-02 6.10186170e-02\n",
            " 2.53781855e-02 2.41303891e-09 3.88943914e-03 3.04749526e-02\n",
            " 3.10751931e-02 2.98089389e-02 5.76355265e-02 4.19003793e-10\n",
            " 9.07444080e-09 3.40354510e-02 5.19718470e-02 2.81195164e-02\n",
            " 1.83282050e-01 4.22480121e-09 9.02028136e-02 6.99495116e-02\n",
            " 8.18124963e-10 7.39564066e-02 1.09397968e-01 4.83562558e-02\n",
            " 1.13099324e-05]\n"
          ]
        }
      ]
    },
    {
      "cell_type": "markdown",
      "source": [
        "## 7. Return to the original space"
      ],
      "metadata": {
        "id": "tgFWMFbivwW3"
      }
    },
    {
      "cell_type": "code",
      "source": [
        "x = U @ y_optimal\n",
        "print(x)"
      ],
      "metadata": {
        "id": "-2lheyHJO2-I",
        "outputId": "22b4f04e-fe97-405f-fa87-950835fab1e5",
        "colab": {
          "base_uri": "https://localhost:8080/"
        }
      },
      "execution_count": null,
      "outputs": [
        {
          "output_type": "stream",
          "name": "stdout",
          "text": [
            "[ 7.75949789e-03 -2.62058212e-02 -4.14869532e-02  1.24878059e-02\n",
            "  1.56338930e-02 -1.68991710e-02  2.22767409e-02 -1.57761541e-02\n",
            "  1.16013659e-02 -1.60160811e-02  1.31076610e-02  1.07253548e-02\n",
            "  4.50247403e-02 -1.41667938e-02  6.09192080e-02  2.68739786e-02\n",
            "  1.85638246e-02  1.30205648e-02  5.78784077e-03  5.43507185e-02\n",
            "  8.47028747e-04 -2.43314291e-03 -3.00013092e-02 -3.61102133e-02\n",
            " -1.93047599e-02  7.90004403e-03 -3.15595866e-03  2.47687814e-03\n",
            "  1.48198298e-02  5.03572388e-03 -9.48388030e-03 -5.16171303e-03\n",
            " -5.60692293e-03 -6.70129735e-03 -6.62775996e-03 -7.14516344e-03\n",
            " -5.14386719e-03 -3.11142963e-03  1.11092111e-03  4.10848968e-03\n",
            "  1.57915202e-03 -5.83735310e-05  2.40566816e-03  1.40263343e-03\n",
            "  2.33911597e-03  4.61438024e-03  6.90722042e-03  7.14567939e-03\n",
            "  2.25304239e-03 -5.96669729e-03 -1.44954251e-02 -1.93318144e-02\n",
            " -1.04542379e-02  8.73345221e-03  1.49229366e-02  1.45228700e-02\n",
            "  1.01355473e-02  8.72918693e-03  1.11503415e-02 -2.73509024e-03\n",
            "  3.63308469e-03 -9.21006188e-03 -1.32202671e-02 -1.22476126e-02\n",
            " -6.63194845e-03 -5.28614052e-04  4.19327601e-03  6.20656407e-03\n",
            "  9.57372138e-03  1.26636157e-02  1.01238985e-02  8.52774187e-03\n",
            "  2.08029372e-03 -1.10723436e-02 -6.12200581e-03 -3.86065301e-03\n",
            " -9.41445133e-03 -7.60861395e-03 -1.05205262e-03 -1.92671386e-03\n",
            " -1.37521601e-02 -3.93670698e-02 -2.10493996e-02 -6.36644966e-03\n",
            " -1.68436626e-03 -9.92983222e-04  6.09875199e-03  6.06459518e-03\n",
            " -7.51042058e-03  2.45591879e-03  8.73042730e-03 -7.67132914e-03\n",
            " -1.30735875e-02 -1.48765723e-02 -9.63473084e-03 -1.66535144e-03\n",
            "  3.74006184e-03  5.53437267e-03  8.00354647e-03  1.16169106e-02\n",
            "  1.17952647e-02  2.15627827e-02  1.96164880e-02  1.50686301e-02\n",
            "  1.50481308e-02  1.15150865e-02 -4.98331772e-03 -1.78595066e-03\n",
            "  4.70375110e-03  5.34431155e-03 -3.26510524e-03 -1.72816416e-02\n",
            " -2.91481699e-02 -2.93959788e-02 -1.59279885e-02 -3.07739906e-03\n",
            "  2.76082422e-03  3.12208761e-03  6.69804098e-03  1.57429370e-03\n",
            " -5.32789560e-03  1.26938007e-02  1.27071782e-02 -5.46466718e-03\n",
            " -1.14798480e-02 -1.37892642e-02 -9.72886298e-03  1.42002226e-03\n",
            "  9.26214386e-03  4.06045641e-03  2.44956518e-03  1.51569116e-03\n",
            "  5.35027902e-03  1.40948346e-02  7.63258293e-03  1.25673179e-03\n",
            "  5.66393259e-03  4.95819648e-03  6.52783753e-03  1.14795036e-02\n",
            "  1.29522347e-02  4.45575716e-03 -8.83831380e-03 -1.80427316e-02\n",
            " -1.81654790e-02 -9.17438572e-03  4.44578636e-04  6.06332323e-03\n",
            "  6.47018399e-03  1.22901529e-02  6.21255587e-03  2.20120114e-03\n",
            "  3.25928145e-03 -1.28668490e-02 -1.89145978e-02 -1.83998974e-02\n",
            " -1.00150597e-02 -2.73625364e-03 -4.02953292e-03 -6.45171871e-03\n",
            " -7.21047836e-03 -5.29126141e-03  2.45195713e-04  7.50874183e-03\n",
            "  2.09389034e-04 -9.37227131e-03  3.70656298e-03  1.29603738e-02\n",
            "  1.24614062e-02  1.80137948e-02  1.38984046e-02  2.58100454e-03\n",
            " -3.84947857e-03 -4.03067366e-03  2.87465347e-03  6.96134391e-03\n",
            "  9.58956429e-03  9.95095046e-03  6.24528892e-03  8.90147036e-04\n",
            " -1.45275051e-03  1.40614598e-02 -1.81810565e-03 -1.75762104e-02\n",
            " -1.79812263e-02 -1.37407237e-02 -1.33633232e-02 -1.41055872e-02\n",
            " -1.33544238e-02 -1.54621459e-02 -1.25760526e-02 -6.64485689e-03\n",
            " -1.48726816e-04  6.55082482e-03 -6.88987790e-03 -2.07065792e-02\n",
            "  2.21426482e-03  1.17583106e-02  1.54083529e-02  1.81765764e-02\n",
            "  1.19585346e-02  4.06506147e-03 -2.46935975e-03 -1.19914366e-03\n",
            "  4.99417322e-03  9.30546936e-03  9.76943122e-03  9.21707885e-03\n",
            " -6.76011544e-04 -2.69421819e-03 -1.32346008e-02  1.69676884e-02\n",
            " -7.21128501e-03 -1.32935822e-02 -6.64052798e-03 -2.33697852e-03\n",
            " -4.37071639e-03 -1.08391447e-02 -1.22116947e-02 -1.41135088e-02\n",
            " -1.76806436e-02 -1.44620553e-02 -6.22601901e-03  2.31626224e-03\n",
            "  8.49572085e-03 -1.56494068e-02 -4.81853672e-03  1.05138921e-02\n",
            "  9.74303763e-03  8.81513420e-03  1.34040087e-02  1.58792987e-02\n",
            "  1.25996743e-02  6.52404065e-03  8.17158686e-04 -4.05467581e-04\n",
            "  6.09316589e-03  1.08517149e-02  8.24793709e-03  7.48529115e-03\n",
            "  2.70025460e-03 -3.41823883e-04 -1.24972816e-02 -8.11758137e-03\n",
            " -6.98709139e-03 -6.39783567e-03 -3.37516370e-03 -2.59275341e-03\n",
            " -2.73106812e-03 -2.37578009e-04  1.94177127e-03  6.92662938e-03\n",
            "  9.79468444e-03 -3.65103015e-04  1.88957931e-03  5.41451056e-03\n",
            "  3.81137971e-03  7.12653169e-03  1.00649707e-02  1.30525752e-02\n",
            "  1.09924733e-02  5.90511917e-03  2.34278063e-03 -3.47251965e-03\n",
            " -4.90110089e-03  2.38727529e-03  1.55081344e-02  1.79952517e-02\n",
            "  1.52679673e-02  1.39579884e-02  2.17264719e-03 -6.63757288e-03\n",
            " -1.53997637e-02 -4.64029138e-03 -9.20724930e-03 -1.22917805e-02\n",
            " -1.34210460e-02 -9.66034927e-03 -9.92791822e-03 -1.04446740e-02\n",
            " -8.19094813e-03 -1.96537737e-04  3.67336513e-04  1.79410193e-04\n",
            " -5.33657483e-04  4.39244268e-03  1.08158253e-02  6.77987808e-03\n",
            "  7.93970180e-03  1.03491852e-02  1.44753524e-02  1.36589294e-02\n",
            "  1.09387713e-02  5.83650664e-03  5.50388678e-04 -2.64780766e-03\n",
            "  1.16958793e-02  3.58552870e-02  2.74565260e-02  2.09828181e-02\n",
            "  5.51856824e-03  2.53553648e-03 -9.66488458e-03  2.57341338e-02\n",
            "  3.06099804e-03 -1.48120677e-02 -1.76464858e-02 -1.51644313e-02\n",
            " -8.38747515e-03 -1.91019620e-03  5.19178028e-04 -2.17396593e-03\n",
            " -5.31170899e-03 -7.51531510e-03 -4.57929662e-03 -4.88554933e-04\n",
            "  2.37356367e-03 -1.02361736e-02  3.12463022e-03  9.98678790e-03\n",
            "  3.65596973e-03  5.38998575e-03  1.30187370e-02  1.43063792e-02\n",
            "  6.31716408e-03 -5.29002673e-03 -1.56713896e-02 -1.66671703e-02\n",
            " -8.44429136e-03 -1.40741349e-03  4.61044775e-03  5.94170384e-03\n",
            " -3.07510102e-03  3.64341879e-03  3.25565286e-03  1.22792999e-04\n",
            " -2.09364656e-03 -4.21791110e-03 -6.77346910e-03 -1.29329301e-02\n",
            " -8.45154310e-03  7.53528320e-03  3.65862748e-02  1.19090697e-02\n",
            "  7.69194119e-03  1.16313531e-02  6.78995412e-03 -5.68822608e-03\n",
            " -1.32739405e-02 -1.66672934e-02 -1.84901830e-02 -6.71527664e-03\n",
            "  1.52793016e-02  1.60083729e-02  1.66388134e-02  1.75033402e-02\n",
            "  2.85429295e-02  2.06964797e-02  1.66553787e-02  1.37201183e-02\n",
            "  1.12018042e-02  1.20321980e-02  1.13705244e-03  1.80419203e-03\n",
            "  1.31725655e-03 -1.63013797e-03 -4.00807659e-03 -4.49268159e-03\n",
            " -5.00451690e-03 -4.38264185e-03 -3.94415372e-03  7.24782273e-04\n",
            "  4.23667792e-03 -9.19715071e-03 -3.00236604e-02 -2.83383022e-02\n",
            "  1.18225173e-02  1.42164934e-02  9.60100684e-03  7.77913759e-03\n",
            "  2.53007165e-03 -1.97362431e-03 -8.43226059e-03  3.90902709e-03\n",
            "  1.28326169e-02  2.73167033e-03 -4.75889371e-03  5.74604149e-03\n",
            "  8.03760988e-03  1.06777597e-02  1.10634142e-02  8.07133947e-03\n",
            "  7.05816042e-03  5.31745336e-03  3.79792027e-03  8.30198555e-04\n",
            " -9.73562729e-05 -4.15552106e-03 -6.43986964e-03 -4.88835282e-03\n",
            "  3.18316518e-04  4.45948141e-03  1.25586897e-02 -1.52025872e-02\n",
            " -1.00834199e-02 -1.36852317e-02 -1.96702982e-02 -1.53813640e-02\n",
            " -6.82296520e-03  2.90036432e-03  5.58899039e-03  3.33083882e-03\n",
            "  7.56736276e-04  1.50723999e-03 -8.96346076e-03 -1.80664804e-02\n",
            " -2.14825975e-02 -1.74248811e-02 -4.54409038e-03  2.50610648e-03\n",
            "  5.91126986e-03  3.51456503e-03  1.47397946e-03 -7.23208747e-04\n",
            " -5.60616287e-04 -7.09693367e-04 -7.82433225e-03 -8.75644879e-03\n",
            " -1.42977849e-02 -6.45996846e-03  1.75098398e-03  7.33948615e-03\n",
            "  5.23407161e-03  1.77729472e-03  5.93627098e-03  7.88039615e-04\n",
            "  4.85655304e-03  8.56401206e-03 -4.30461242e-03 -1.43796202e-02\n",
            " -4.00110187e-03  2.79531208e-02  2.61981119e-02  2.17166399e-02\n",
            "  2.31279128e-02  2.24866172e-02  1.42598204e-02  1.29467780e-03\n",
            " -7.87064447e-03  6.19459847e-03  1.88680955e-02  3.82568439e-02\n",
            "  2.29196639e-02  6.20417749e-03 -6.16505288e-03 -1.07024401e-02\n",
            " -7.83650186e-03  1.26813028e-03  1.86907424e-03  2.43297351e-03\n",
            "  2.71887865e-03  3.10590937e-03  1.67671092e-03 -2.57887548e-04\n",
            " -5.42496224e-04 -6.79964755e-03  8.72251945e-03  7.69912050e-03\n",
            "  6.71129873e-03  5.40748468e-03  4.00043715e-03  1.92617478e-03\n",
            " -4.24782288e-04 -2.39770579e-03 -3.41557736e-03  7.63777525e-03\n",
            " -2.58040154e-02  2.20043994e-03  5.61760892e-03 -5.26747613e-03\n",
            " -2.24149602e-02  2.78162933e-02  6.90398987e-03  6.75407181e-03\n",
            "  4.13423054e-03  3.34980557e-03  6.35246175e-03  7.86990251e-03\n",
            "  8.78308990e-03  6.06504105e-03  3.36406495e-03  2.66090405e-03\n",
            " -3.52343342e-03  2.50767259e-03  1.42885339e-02  1.43965942e-02\n",
            "  1.90475614e-02  1.48705633e-02  1.49172211e-02  1.42775441e-02\n",
            "  1.61255176e-02  1.66491794e-02  1.12236239e-02  9.42743578e-03\n",
            "  7.00119964e-03  5.47487730e-03  2.40931388e-03 -9.77469913e-04\n",
            " -4.57621082e-04 -3.60429990e-03 -3.59870376e-03 -2.59817759e-03\n",
            " -5.70260477e-03 -6.07237326e-03  8.11069220e-03  8.43935766e-03\n",
            "  6.24485802e-03  5.28717831e-03  9.39762414e-03  1.46857831e-02\n",
            "  1.46603715e-02  1.32112268e-02  7.88598432e-03  6.13521504e-03\n",
            "  6.18191040e-03  7.94872870e-03  1.87603056e-02  1.49615589e-02\n",
            "  1.97623385e-02  1.26581220e-02  1.27191227e-02  1.05181874e-02\n",
            "  1.17277216e-02  1.35401305e-02  1.00307038e-02  6.28196319e-03\n",
            "  6.73600977e-03  5.30493486e-03  8.19561452e-04 -2.42401910e-03\n",
            " -3.37417367e-03 -4.04079978e-03 -3.17443176e-03 -3.51502421e-03\n",
            " -2.35211763e-03 -1.64108454e-04 -2.99598725e-04  1.34446895e-03\n",
            "  2.73314859e-03  2.57363156e-03  7.40673088e-03  1.55878817e-02\n",
            "  2.23630061e-02  2.07799199e-02  6.93873020e-03 -1.45546193e-03\n",
            "  6.36607663e-03  1.76375395e-02  4.75487094e-03 -2.48083810e-03\n",
            "  1.20642459e-02  1.60774520e-02  1.21139616e-02  9.91629018e-03\n",
            "  1.02424715e-02  1.10543181e-02  1.09307396e-02  9.33852329e-03\n",
            "  8.72740369e-03  7.74666166e-03  3.99208731e-03  2.60381639e-03\n",
            " -1.39830319e-03  3.38740859e-04  9.61388637e-04  1.67450008e-03\n",
            "  1.43214168e-03  1.52932204e-03  1.71170353e-02  1.56174780e-02\n",
            " -6.65059865e-03  1.95453670e-02 -6.99086237e-03  1.01210989e-02\n",
            "  1.34105491e-02 -2.53271373e-03  2.21053780e-02 -2.17311069e-02\n",
            " -3.47188605e-03  1.61629859e-03  5.87368750e-03  7.27251791e-03\n",
            "  5.90934351e-03  3.24774880e-03 -1.12187603e-02 -1.38469080e-02\n",
            " -2.17024712e-02 -2.06190958e-02 -1.43975214e-02 -1.24333093e-02\n",
            " -7.30321978e-03 -5.37105875e-03 -1.16945444e-02 -3.13215214e-04\n",
            "  4.12817679e-03  8.33578793e-04 -5.84783808e-03 -5.56523882e-04\n",
            "  3.50702224e-03  1.78179711e-03  2.55298990e-03 -1.10081019e-03\n",
            " -2.09078112e-03 -3.92923007e-03 -1.95546579e-03  1.09119329e-03\n",
            "  2.45062348e-03]\n"
          ]
        }
      ]
    },
    {
      "cell_type": "markdown",
      "source": [
        "## 8. Visualize the feature importance scores and selected features"
      ],
      "metadata": {
        "id": "lKLlOXX8SVLO"
      }
    },
    {
      "cell_type": "code",
      "source": [
        "import matplotlib.pyplot as plt\n",
        "import seaborn as sns"
      ],
      "metadata": {
        "id": "pKWTaBGMkbz9"
      },
      "execution_count": null,
      "outputs": []
    },
    {
      "cell_type": "code",
      "source": [
        "print(\"Number of features:\", len(X.columns))\n",
        "print(\"Number of importance scores:\", len(x))"
      ],
      "metadata": {
        "colab": {
          "base_uri": "https://localhost:8080/"
        },
        "id": "9PKKTgfOoPpX",
        "outputId": "3dcfc836-d199-42ff-81e4-cd87a66b1ffa"
      },
      "execution_count": null,
      "outputs": [
        {
          "output_type": "stream",
          "name": "stdout",
          "text": [
            "Number of features: 617\n",
            "Number of importance scores: 617\n"
          ]
        }
      ]
    },
    {
      "cell_type": "code",
      "source": [
        "# Visualize feature importance\n",
        "plt.figure(figsize=(8,5))\n",
        "sns.barplot(x=X.columns, y=x, palette=\"viridis\")\n",
        "plt.xlabel(\"Features\")\n",
        "plt.ylabel(\"Importance Score\")\n",
        "plt.title(\"QPFS Feature Importance Scores\")\n",
        "plt.show()\n"
      ],
      "metadata": {
        "colab": {
          "base_uri": "https://localhost:8080/",
          "height": 574
        },
        "id": "KdWsyTiMkGEJ",
        "outputId": "8e289be4-d171-4719-d39f-517fda4489f8"
      },
      "execution_count": null,
      "outputs": [
        {
          "output_type": "stream",
          "name": "stderr",
          "text": [
            "<ipython-input-45-2bdc86adbd7a>:3: FutureWarning: \n",
            "\n",
            "Passing `palette` without assigning `hue` is deprecated and will be removed in v0.14.0. Assign the `x` variable to `hue` and set `legend=False` for the same effect.\n",
            "\n",
            "  sns.barplot(x=X.columns, y=x, palette=\"viridis\")\n"
          ]
        },
        {
          "output_type": "display_data",
          "data": {
            "text/plain": [
              "<Figure size 800x500 with 1 Axes>"
            ],
            "image/png": "[encoded data removed]"
          },
          "metadata": {}
        }
      ]
    },
    {
      "cell_type": "code",
      "source": [
        "# Lets select the 25 most important features and draw their importance score\n",
        "\n",
        "top_features_indices = np.argsort(x)[-25:]\n",
        "# Create a DataFrame with top features and their importance scores\n",
        "top_features_df = pd.DataFrame({'Feature': X.columns[top_features_indices], 'Importance': x[top_features_indices]})\n",
        "\n",
        "# Visualize top features\n",
        "plt.figure(figsize=(10, 6))\n",
        "sns.barplot(x='Importance', y='Feature', data=top_features_df, palette=\"viridis\")\n",
        "plt.title(\"Top 25 QPFS Feature Importance Scores\")\n",
        "plt.xlabel(\"Importance Score\")\n",
        "plt.ylabel(\"Features\")\n",
        "plt.show()\n",
        "\n"
      ],
      "metadata": {
        "id": "Trr20SY_kjvK",
        "colab": {
          "base_uri": "https://localhost:8080/",
          "height": 651
        },
        "outputId": "c41706fa-4991-4cad-f822-0ead26e06fb5"
      },
      "execution_count": null,
      "outputs": [
        {
          "output_type": "stream",
          "name": "stderr",
          "text": [
            "<ipython-input-46-d1796ee7e069>:9: FutureWarning: \n",
            "\n",
            "Passing `palette` without assigning `hue` is deprecated and will be removed in v0.14.0. Assign the `y` variable to `hue` and set `legend=False` for the same effect.\n",
            "\n",
            "  sns.barplot(x='Importance', y='Feature', data=top_features_df, palette=\"viridis\")\n"
          ]
        },
        {
          "output_type": "display_data",
          "data": {
            "text/plain": [
              "<Figure size 1000x600 with 1 Axes>"
            ],
            "image/png": "[encoded data removed]"
          },
          "metadata": {}
        }
      ]
    },
    {
      "cell_type": "code",
      "source": [],
      "metadata": {
        "id": "UtKs0q0qpQoh"
      },
      "execution_count": null,
      "outputs": []
    }
  ]
}