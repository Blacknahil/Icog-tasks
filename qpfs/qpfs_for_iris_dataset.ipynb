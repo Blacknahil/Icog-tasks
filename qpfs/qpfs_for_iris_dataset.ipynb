{
  "nbformat": 4,
  "nbformat_minor": 0,
  "metadata": {
    "colab": {
      "provenance": [],
      "authorship_tag": "ABX9TyNOfDnAHvVqW35HxccI5rqF",
      "include_colab_link": true
    },
    "kernelspec": {
      "name": "python3",
      "display_name": "Python 3"
    },
    "language_info": {
      "name": "python"
    }
  },
  "cells": [
    {
      "cell_type": "markdown",
      "metadata": {
        "id": "view-in-github",
        "colab_type": "text"
      },
      "source": [
        "<a href=\"https://colab.research.google.com/github/Blacknahil/Icog-tasks/blob/main/qpfs/qpfs_for_iris_dataset.ipynb\" target=\"_parent\"><img src=\"https://colab.research.google.com/assets/colab-badge.svg\" alt=\"Open In Colab\"/></a>"
      ]
    },
    {
      "cell_type": "code",
      "execution_count": null,
      "metadata": {
        "id": "DV1_qzN9RWWZ"
      },
      "outputs": [],
      "source": []
    },
    {
      "cell_type": "markdown",
      "source": [
        "## 1. Load and preproccess the data"
      ],
      "metadata": {
        "id": "mazDYTezRhtq"
      }
    },
    {
      "cell_type": "markdown",
      "source": [
        "### imports"
      ],
      "metadata": {
        "id": "mHFqxvEkUx01"
      }
    },
    {
      "cell_type": "code",
      "source": [
        "from sklearn.datasets import load_iris"
      ],
      "metadata": {
        "id": "ERTubd8DU8tz"
      },
      "execution_count": 2,
      "outputs": []
    },
    {
      "cell_type": "code",
      "source": [
        "import pandas as pd"
      ],
      "metadata": {
        "id": "DxIK2yuHVN1n"
      },
      "execution_count": 4,
      "outputs": []
    },
    {
      "cell_type": "code",
      "source": [
        "from sklearn.feature_selection import mutual_info_classif"
      ],
      "metadata": {
        "id": "9yZ8CTtOV8-6"
      },
      "execution_count": 8,
      "outputs": []
    },
    {
      "cell_type": "code",
      "source": [
        "import numpy as np"
      ],
      "metadata": {
        "id": "uCbGXaE4WzgS"
      },
      "execution_count": 10,
      "outputs": []
    },
    {
      "cell_type": "markdown",
      "source": [
        "Loading iris"
      ],
      "metadata": {
        "id": "9eI1EF_rU2Pe"
      }
    },
    {
      "cell_type": "code",
      "source": [
        "iris= load_iris()"
      ],
      "metadata": {
        "id": "58ez6YqdU7LW"
      },
      "execution_count": 3,
      "outputs": []
    },
    {
      "cell_type": "code",
      "source": [
        "X = pd.DataFrame(iris.data, columns=iris.feature_names)  # Feature matrix\n",
        "y = iris.target  # Target labels (flower species)"
      ],
      "metadata": {
        "id": "-e22OoWtVTVc"
      },
      "execution_count": 6,
      "outputs": []
    },
    {
      "cell_type": "code",
      "source": [
        "# print(X.head())\n",
        "# print(y)"
      ],
      "metadata": {
        "colab": {
          "base_uri": "https://localhost:8080/"
        },
        "id": "RxPbx4AvVoQX",
        "outputId": "9b7f5505-a2a6-4d48-d11b-429fc8786c84"
      },
      "execution_count": 9,
      "outputs": [
        {
          "output_type": "stream",
          "name": "stdout",
          "text": [
            "[0 0 0 0 0 0 0 0 0 0 0 0 0 0 0 0 0 0 0 0 0 0 0 0 0 0 0 0 0 0 0 0 0 0 0 0 0\n",
            " 0 0 0 0 0 0 0 0 0 0 0 0 0 1 1 1 1 1 1 1 1 1 1 1 1 1 1 1 1 1 1 1 1 1 1 1 1\n",
            " 1 1 1 1 1 1 1 1 1 1 1 1 1 1 1 1 1 1 1 1 1 1 1 1 1 1 2 2 2 2 2 2 2 2 2 2 2\n",
            " 2 2 2 2 2 2 2 2 2 2 2 2 2 2 2 2 2 2 2 2 2 2 2 2 2 2 2 2 2 2 2 2 2 2 2 2 2\n",
            " 2 2]\n"
          ]
        }
      ]
    },
    {
      "cell_type": "markdown",
      "source": [
        "## 2. Compute feature relevance (F) using Mutual information"
      ],
      "metadata": {
        "id": "Hc5bxvP2RodJ"
      }
    },
    {
      "cell_type": "markdown",
      "source": [
        "Lets calculate the mutual information(MI) between each feature and the class labels."
      ],
      "metadata": {
        "id": "OUPKaXo9VyGl"
      }
    },
    {
      "cell_type": "code",
      "source": [
        "F=mutual_info_classif(X,y)\n",
        "F= F/np.max(F) # Normalize the mutual information to be in the range [0,1]"
      ],
      "metadata": {
        "id": "vjrw5N5xVmmh"
      },
      "execution_count": 11,
      "outputs": []
    },
    {
      "cell_type": "code",
      "source": [
        "print(F)"
      ],
      "metadata": {
        "colab": {
          "base_uri": "https://localhost:8080/"
        },
        "id": "Squ5erfGXIL-",
        "outputId": "e38efc9f-1029-4a14-cfb5-3b3a7727bae1"
      },
      "execution_count": 14,
      "outputs": [
        {
          "output_type": "stream",
          "name": "stdout",
          "text": [
            "[0.48725033 0.31635032 1.         0.98598746]\n"
          ]
        }
      ]
    },
    {
      "cell_type": "markdown",
      "source": [
        "print the feature relevance scores"
      ],
      "metadata": {
        "id": "OM2yzficXbh5"
      }
    },
    {
      "cell_type": "code",
      "source": [
        "## print the feature relevance scores\n",
        "for i in range(len(iris.feature_names)):\n",
        "    print(f\"{iris.feature_names[i]}: {F[i]}\")"
      ],
      "metadata": {
        "colab": {
          "base_uri": "https://localhost:8080/"
        },
        "id": "LNnc5Vb3W23Y",
        "outputId": "db5f1336-baa6-4f5a-9192-653f4a778955"
      },
      "execution_count": 13,
      "outputs": [
        {
          "output_type": "stream",
          "name": "stdout",
          "text": [
            "sepal length (cm): 0.48725032679379954\n",
            "sepal width (cm): 0.31635032037825034\n",
            "petal length (cm): 1.0\n",
            "petal width (cm): 0.985987455666715\n"
          ]
        }
      ]
    },
    {
      "cell_type": "markdown",
      "source": [
        "Computes how well each feature predicts the target class.\n",
        "Higher F values mean more relevant features."
      ],
      "metadata": {
        "id": "y2jTzAn2Xh6o"
      }
    },
    {
      "cell_type": "markdown",
      "source": [
        "## 3. Computer the feature similarity/ redundancy Using Pearson Correlation"
      ],
      "metadata": {
        "id": "D4ArAm3lR2zo"
      }
    },
    {
      "cell_type": "markdown",
      "source": [
        "Lets create a 4*4 similarity matrix Q using Pearson Correlation"
      ],
      "metadata": {
        "id": "cZ5u8ElsXsqY"
      }
    },
    {
      "cell_type": "code",
      "source": [
        "from scipy.stats import pearsonr"
      ],
      "metadata": {
        "id": "DWcW4c9zY4Uo"
      },
      "execution_count": 19,
      "outputs": []
    },
    {
      "cell_type": "code",
      "source": [
        "num_featues= X.shape[1]\n",
        "# print(num_featues)\n",
        "Q= np.zeros((num_featues,num_featues))\n",
        "# print(Q)\n",
        "\n",
        "\n",
        "for i in range(num_featues):\n",
        "  for j in range(num_featues):\n",
        "    Q[i, j], other_x = pearsonr(X.iloc[:, i], X.iloc[:, j])\n",
        "    print(iris.feature_names[i],iris.feature_names[j],Q[i,j])\n",
        "    # print(\"other_x\",other_x)\n",
        "    print(\"\\n\")\n",
        "\n",
        "# Take the absolute values to measure similarity"
      ],
      "metadata": {
        "colab": {
          "base_uri": "https://localhost:8080/"
        },
        "id": "6tNbzvSeX6gU",
        "outputId": "58d204ad-bcfe-4284-9de4-895f1c7c8745"
      },
      "execution_count": 27,
      "outputs": [
        {
          "output_type": "stream",
          "name": "stdout",
          "text": [
            "sepal length (cm) sepal length (cm) 1.0\n",
            "\n",
            "\n",
            "sepal length (cm) sepal width (cm) -0.11756978413300206\n",
            "\n",
            "\n",
            "sepal length (cm) petal length (cm) 0.8717537758865831\n",
            "\n",
            "\n",
            "sepal length (cm) petal width (cm) 0.8179411262715756\n",
            "\n",
            "\n",
            "sepal width (cm) sepal length (cm) -0.11756978413300206\n",
            "\n",
            "\n",
            "sepal width (cm) sepal width (cm) 0.9999999999999999\n",
            "\n",
            "\n",
            "sepal width (cm) petal length (cm) -0.4284401043305397\n",
            "\n",
            "\n",
            "sepal width (cm) petal width (cm) -0.36612593253643905\n",
            "\n",
            "\n",
            "petal length (cm) sepal length (cm) 0.8717537758865831\n",
            "\n",
            "\n",
            "petal length (cm) sepal width (cm) -0.4284401043305397\n",
            "\n",
            "\n",
            "petal length (cm) petal length (cm) 0.9999999999999997\n",
            "\n",
            "\n",
            "petal length (cm) petal width (cm) 0.962865431402796\n",
            "\n",
            "\n",
            "petal width (cm) sepal length (cm) 0.8179411262715756\n",
            "\n",
            "\n",
            "petal width (cm) sepal width (cm) -0.36612593253643905\n",
            "\n",
            "\n",
            "petal width (cm) petal length (cm) 0.962865431402796\n",
            "\n",
            "\n",
            "petal width (cm) petal width (cm) 1.0\n",
            "\n",
            "\n"
          ]
        }
      ]
    },
    {
      "cell_type": "code",
      "source": [
        "# Take the absolute value to measure similarity\n",
        "Q= np.abs(Q)"
      ],
      "metadata": {
        "id": "Pf8xfdTjabr5"
      },
      "execution_count": 25,
      "outputs": []
    },
    {
      "cell_type": "code",
      "source": [
        "print(\"Feature Similarity Matrix(Q):\")\n",
        "print(Q)"
      ],
      "metadata": {
        "colab": {
          "base_uri": "https://localhost:8080/"
        },
        "id": "qaKsJ1HCakB-",
        "outputId": "f1ae7bb3-e470-4780-dfa9-864a5c2062ea"
      },
      "execution_count": 26,
      "outputs": [
        {
          "output_type": "stream",
          "name": "stdout",
          "text": [
            "Feature Similarity Matrix(Q):\n",
            "[[1.         0.11756978 0.87175378 0.81794113]\n",
            " [0.11756978 1.         0.4284401  0.36612593]\n",
            " [0.87175378 0.4284401  1.         0.96286543]\n",
            " [0.81794113 0.36612593 0.96286543 1.        ]]\n"
          ]
        }
      ]
    },
    {
      "cell_type": "markdown",
      "source": [
        "Measure how redundant features/columns are to each other. Higher Qij values mean more redundancy"
      ],
      "metadata": {
        "id": "vxsFaHGma_gC"
      }
    },
    {
      "cell_type": "markdown",
      "source": [
        "## 4. Formulate and solve the quadratic programming(QP) Problem"
      ],
      "metadata": {
        "id": "54PYjDD3bPHB"
      }
    },
    {
      "cell_type": "markdown",
      "source": [
        "we solve the optimization problem $$ \\min_x \\frac{1}{2} (1 - \\alpha) x^T Q x - \\alpha F^T x $$\n",
        "\n",
        "with constraints:\n",
        "$$ x \\geq 0 $$\n",
        "$$ \\sum x =1 $$\n",
        "\n",
        "\n"
      ],
      "metadata": {
        "id": "HVBzLKiPbf00"
      }
    },
    {
      "cell_type": "code",
      "source": [
        "# Define alpha (trade-off between relevance and redundancy)\n",
        "alpha = 0.8\n"
      ],
      "metadata": {
        "id": "s8JNe2iPdWLM"
      },
      "execution_count": 67,
      "outputs": []
    },
    {
      "cell_type": "markdown",
      "source": [
        "TO solve the optimization problem stated above we use a python library.\n",
        "CVXOPT is a Python library for convex optimization that is used to solve Quadratic Programming (QP) problems. However, CVXOPT requires a specific matrix format to work properly.\n",
        "\n"
      ],
      "metadata": {
        "id": "mlWfWSv_d0D2"
      }
    },
    {
      "cell_type": "code",
      "source": [
        "from cvxopt import matrix,solvers"
      ],
      "metadata": {
        "id": "qk3gm6fogvGa"
      },
      "execution_count": 30,
      "outputs": []
    },
    {
      "cell_type": "code",
      "source": [
        "## covert to CVXOPT format\n",
        "P= matrix((1-alpha) * Q)\n",
        "# quadratic term: redundancy between features\n",
        "\n",
        "q= matrix(-alpha * F)\n",
        "# linear term:\n",
        "# repreasenting the contribution of each feature to the class label (0,1,2)\n",
        "num_features = X.shape[1]\n",
        "G = matrix(-np.eye(num_features)) # constraint x>=0\n",
        "\n",
        "h=matrix(np.zeros(num_features))\n",
        "A =matrix(np.ones((1,num_features))) # sum(x)=1 constraint\n",
        "b= matrix(1.0)\n"
      ],
      "metadata": {
        "id": "R7nRLKAmcBsy"
      },
      "execution_count": 68,
      "outputs": []
    },
    {
      "cell_type": "markdown",
      "source": [
        "solve the QP problem using the solver imorted from cvxopt"
      ],
      "metadata": {
        "id": "heUvcg55jRgx"
      }
    },
    {
      "cell_type": "code",
      "source": [
        "solvers.options[\"show_progress\"]=True\n",
        "solution = solvers.qp(P,q,G,h,A,b)"
      ],
      "metadata": {
        "colab": {
          "base_uri": "https://localhost:8080/"
        },
        "id": "MGvowQONhkOe",
        "outputId": "c9bd9696-9015-4da1-8688-8fa0cc553ff3"
      },
      "execution_count": 69,
      "outputs": [
        {
          "output_type": "stream",
          "name": "stdout",
          "text": [
            "     pcost       dcost       gap    pres   dres\n",
            " 0: -6.5054e-01 -1.7055e+00  1e+00  2e-16  2e+00\n",
            " 1: -6.6873e-01 -7.1341e-01  4e-02  2e-16  1e-01\n",
            " 2: -6.9683e-01 -7.0055e-01  4e-03  2e-16  3e-03\n",
            " 3: -6.9978e-01 -7.0004e-01  3e-04  7e-18  1e-16\n",
            " 4: -6.9999e-01 -7.0000e-01  8e-06  3e-16  2e-16\n",
            " 5: -7.0000e-01 -7.0000e-01  8e-08  1e-16  1e-16\n",
            "Optimal solution found.\n"
          ]
        }
      ]
    },
    {
      "cell_type": "code",
      "source": [
        "print(solution)"
      ],
      "metadata": {
        "colab": {
          "base_uri": "https://localhost:8080/"
        },
        "id": "593qPdtOjmwl",
        "outputId": "d17dd8df-4e8b-4c99-9acc-af86c3702255"
      },
      "execution_count": 62,
      "outputs": [
        {
          "output_type": "stream",
          "name": "stdout",
          "text": [
            "{'x': <4x1 matrix, tc='d'>, 'y': <1x1 matrix, tc='d'>, 's': <4x1 matrix, tc='d'>, 'z': <4x1 matrix, tc='d'>, 'status': 'optimal', 'gap': 6.482608557046123e-07, 'relative gap': 6.482610861052647e-07, 'primal objective': -0.9999996445866375, 'dual objective': -1.0000002928474938, 'primal infeasibility': 6.661338147750939e-16, 'dual infeasibility': 1.2155339233861025e-16, 'primal slack': 1.803081376610369e-07, 'dual slack': 2.928474939275236e-07, 'iterations': 5}\n"
          ]
        }
      ]
    },
    {
      "cell_type": "code",
      "source": [
        "## extract feature importance scores\n",
        "x = np.array(solution[\"x\"]).flatten()"
      ],
      "metadata": {
        "id": "JQI1OgpLjtaf"
      },
      "execution_count": 70,
      "outputs": []
    },
    {
      "cell_type": "code",
      "source": [
        "# Print feature importance scores\n",
        "print(\"Feature Importance Scores:\", x)\n",
        "print()\n",
        "\n",
        "for i in range(len(iris.feature_names)):\n",
        "    print(f\"{iris.feature_names[i]}: {x[i]}\")"
      ],
      "metadata": {
        "colab": {
          "base_uri": "https://localhost:8080/"
        },
        "id": "1GeDFozykGpy",
        "outputId": "f5395204-1619-4ba7-b329-f380b1eaebbf"
      },
      "execution_count": 71,
      "outputs": [
        {
          "output_type": "stream",
          "name": "stdout",
          "text": [
            "Feature Importance Scores: [5.74557410e-09 9.74262067e-09 9.99981396e-01 1.85882345e-05]\n",
            "\n",
            "sepal length (cm): 5.7455741014591355e-09\n",
            "sepal width (cm): 9.742620672842641e-09\n",
            "petal length (cm): 0.9999813962773226\n",
            "petal width (cm): 1.858823448249304e-05\n"
          ]
        }
      ]
    },
    {
      "cell_type": "markdown",
      "source": [
        "## 5. Visualize the feature importance scores and selected features"
      ],
      "metadata": {
        "id": "lKLlOXX8SVLO"
      }
    },
    {
      "cell_type": "code",
      "source": [
        "import matplotlib.pyplot as plt\n",
        "import seaborn as sns"
      ],
      "metadata": {
        "id": "pKWTaBGMkbz9"
      },
      "execution_count": 65,
      "outputs": []
    },
    {
      "cell_type": "code",
      "source": [
        "# Visualize feature importance\n",
        "plt.figure(figsize=(8,5))\n",
        "sns.barplot(x=iris.feature_names, y=x, palette=\"viridis\")\n",
        "plt.xlabel(\"Features\")\n",
        "plt.ylabel(\"Importance Score\")\n",
        "plt.title(\"QPFS Feature Importance Scores\")\n",
        "plt.show()\n"
      ],
      "metadata": {
        "colab": {
          "base_uri": "https://localhost:8080/",
          "height": 580
        },
        "id": "KdWsyTiMkGEJ",
        "outputId": "1b7dd554-382a-43e0-8068-9367f21bd4aa"
      },
      "execution_count": 72,
      "outputs": [
        {
          "output_type": "stream",
          "name": "stderr",
          "text": [
            "<ipython-input-72-0a2154deeeea>:3: FutureWarning: \n",
            "\n",
            "Passing `palette` without assigning `hue` is deprecated and will be removed in v0.14.0. Assign the `x` variable to `hue` and set `legend=False` for the same effect.\n",
            "\n",
            "  sns.barplot(x=iris.feature_names, y=x, palette=\"viridis\")\n"
          ]
        },
        {
          "output_type": "display_data",
          "data": {
            "text/plain": [
              "<Figure size 800x500 with 1 Axes>"
            ],
            "image/png": "[encoded data removed]"
          },
          "metadata": {}
        }
      ]
    },
    {
      "cell_type": "code",
      "source": [],
      "metadata": {
        "id": "Trr20SY_kjvK"
      },
      "execution_count": null,
      "outputs": []
    }
  ]
}